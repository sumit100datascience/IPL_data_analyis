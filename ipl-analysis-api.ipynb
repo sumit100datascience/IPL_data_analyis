{
 "cells": [
  {
   "cell_type": "code",
   "execution_count": 2,
   "id": "d7b877b2",
   "metadata": {},
   "outputs": [],
   "source": [
    "#Importing necessay libraries\n",
    "import pandas as pd\n",
    "import numpy as np\n",
    "import seaborn as sns\n",
    "import matplotlib.pyplot as plt"
   ]
  },
  {
   "cell_type": "code",
   "execution_count": 3,
   "id": "0c653595",
   "metadata": {},
   "outputs": [
    {
     "data": {
      "text/html": [
       "<div>\n",
       "<style scoped>\n",
       "    .dataframe tbody tr th:only-of-type {\n",
       "        vertical-align: middle;\n",
       "    }\n",
       "\n",
       "    .dataframe tbody tr th {\n",
       "        vertical-align: top;\n",
       "    }\n",
       "\n",
       "    .dataframe thead th {\n",
       "        text-align: right;\n",
       "    }\n",
       "</style>\n",
       "<table border=\"1\" class=\"dataframe\">\n",
       "  <thead>\n",
       "    <tr style=\"text-align: right;\">\n",
       "      <th></th>\n",
       "      <th>ID</th>\n",
       "      <th>City</th>\n",
       "      <th>Date</th>\n",
       "      <th>Season</th>\n",
       "      <th>MatchNumber</th>\n",
       "      <th>Team1</th>\n",
       "      <th>Team2</th>\n",
       "      <th>Venue</th>\n",
       "      <th>TossWinner</th>\n",
       "      <th>TossDecision</th>\n",
       "      <th>SuperOver</th>\n",
       "      <th>WinningTeam</th>\n",
       "      <th>WonBy</th>\n",
       "      <th>Margin</th>\n",
       "      <th>method</th>\n",
       "      <th>Player_of_Match</th>\n",
       "      <th>Team1Players</th>\n",
       "      <th>Team2Players</th>\n",
       "      <th>Umpire1</th>\n",
       "      <th>Umpire2</th>\n",
       "    </tr>\n",
       "  </thead>\n",
       "  <tbody>\n",
       "    <tr>\n",
       "      <th>0</th>\n",
       "      <td>1312200</td>\n",
       "      <td>Ahmedabad</td>\n",
       "      <td>2022-05-29</td>\n",
       "      <td>2022</td>\n",
       "      <td>Final</td>\n",
       "      <td>Rajasthan Royals</td>\n",
       "      <td>Gujarat Titans</td>\n",
       "      <td>Narendra Modi Stadium, Ahmedabad</td>\n",
       "      <td>Rajasthan Royals</td>\n",
       "      <td>bat</td>\n",
       "      <td>N</td>\n",
       "      <td>Gujarat Titans</td>\n",
       "      <td>Wickets</td>\n",
       "      <td>7.0</td>\n",
       "      <td>NaN</td>\n",
       "      <td>HH Pandya</td>\n",
       "      <td>['YBK Jaiswal', 'JC Buttler', 'SV Samson', 'D ...</td>\n",
       "      <td>['WP Saha', 'Shubman Gill', 'MS Wade', 'HH Pan...</td>\n",
       "      <td>CB Gaffaney</td>\n",
       "      <td>Nitin Menon</td>\n",
       "    </tr>\n",
       "    <tr>\n",
       "      <th>1</th>\n",
       "      <td>1312199</td>\n",
       "      <td>Ahmedabad</td>\n",
       "      <td>2022-05-27</td>\n",
       "      <td>2022</td>\n",
       "      <td>Qualifier 2</td>\n",
       "      <td>Royal Challengers Bangalore</td>\n",
       "      <td>Rajasthan Royals</td>\n",
       "      <td>Narendra Modi Stadium, Ahmedabad</td>\n",
       "      <td>Rajasthan Royals</td>\n",
       "      <td>field</td>\n",
       "      <td>N</td>\n",
       "      <td>Rajasthan Royals</td>\n",
       "      <td>Wickets</td>\n",
       "      <td>7.0</td>\n",
       "      <td>NaN</td>\n",
       "      <td>JC Buttler</td>\n",
       "      <td>['V Kohli', 'F du Plessis', 'RM Patidar', 'GJ ...</td>\n",
       "      <td>['YBK Jaiswal', 'JC Buttler', 'SV Samson', 'D ...</td>\n",
       "      <td>CB Gaffaney</td>\n",
       "      <td>Nitin Menon</td>\n",
       "    </tr>\n",
       "    <tr>\n",
       "      <th>2</th>\n",
       "      <td>1312198</td>\n",
       "      <td>Kolkata</td>\n",
       "      <td>2022-05-25</td>\n",
       "      <td>2022</td>\n",
       "      <td>Eliminator</td>\n",
       "      <td>Royal Challengers Bangalore</td>\n",
       "      <td>Lucknow Super Giants</td>\n",
       "      <td>Eden Gardens, Kolkata</td>\n",
       "      <td>Lucknow Super Giants</td>\n",
       "      <td>field</td>\n",
       "      <td>N</td>\n",
       "      <td>Royal Challengers Bangalore</td>\n",
       "      <td>Runs</td>\n",
       "      <td>14.0</td>\n",
       "      <td>NaN</td>\n",
       "      <td>RM Patidar</td>\n",
       "      <td>['V Kohli', 'F du Plessis', 'RM Patidar', 'GJ ...</td>\n",
       "      <td>['Q de Kock', 'KL Rahul', 'M Vohra', 'DJ Hooda...</td>\n",
       "      <td>J Madanagopal</td>\n",
       "      <td>MA Gough</td>\n",
       "    </tr>\n",
       "    <tr>\n",
       "      <th>3</th>\n",
       "      <td>1312197</td>\n",
       "      <td>Kolkata</td>\n",
       "      <td>2022-05-24</td>\n",
       "      <td>2022</td>\n",
       "      <td>Qualifier 1</td>\n",
       "      <td>Rajasthan Royals</td>\n",
       "      <td>Gujarat Titans</td>\n",
       "      <td>Eden Gardens, Kolkata</td>\n",
       "      <td>Gujarat Titans</td>\n",
       "      <td>field</td>\n",
       "      <td>N</td>\n",
       "      <td>Gujarat Titans</td>\n",
       "      <td>Wickets</td>\n",
       "      <td>7.0</td>\n",
       "      <td>NaN</td>\n",
       "      <td>DA Miller</td>\n",
       "      <td>['YBK Jaiswal', 'JC Buttler', 'SV Samson', 'D ...</td>\n",
       "      <td>['WP Saha', 'Shubman Gill', 'MS Wade', 'HH Pan...</td>\n",
       "      <td>BNJ Oxenford</td>\n",
       "      <td>VK Sharma</td>\n",
       "    </tr>\n",
       "    <tr>\n",
       "      <th>4</th>\n",
       "      <td>1304116</td>\n",
       "      <td>Mumbai</td>\n",
       "      <td>2022-05-22</td>\n",
       "      <td>2022</td>\n",
       "      <td>70</td>\n",
       "      <td>Sunrisers Hyderabad</td>\n",
       "      <td>Punjab Kings</td>\n",
       "      <td>Wankhede Stadium, Mumbai</td>\n",
       "      <td>Sunrisers Hyderabad</td>\n",
       "      <td>bat</td>\n",
       "      <td>N</td>\n",
       "      <td>Punjab Kings</td>\n",
       "      <td>Wickets</td>\n",
       "      <td>5.0</td>\n",
       "      <td>NaN</td>\n",
       "      <td>Harpreet Brar</td>\n",
       "      <td>['PK Garg', 'Abhishek Sharma', 'RA Tripathi', ...</td>\n",
       "      <td>['JM Bairstow', 'S Dhawan', 'M Shahrukh Khan',...</td>\n",
       "      <td>AK Chaudhary</td>\n",
       "      <td>NA Patwardhan</td>\n",
       "    </tr>\n",
       "  </tbody>\n",
       "</table>\n",
       "</div>"
      ],
      "text/plain": [
       "        ID       City        Date Season  MatchNumber  \\\n",
       "0  1312200  Ahmedabad  2022-05-29   2022        Final   \n",
       "1  1312199  Ahmedabad  2022-05-27   2022  Qualifier 2   \n",
       "2  1312198    Kolkata  2022-05-25   2022   Eliminator   \n",
       "3  1312197    Kolkata  2022-05-24   2022  Qualifier 1   \n",
       "4  1304116     Mumbai  2022-05-22   2022           70   \n",
       "\n",
       "                         Team1                 Team2  \\\n",
       "0             Rajasthan Royals        Gujarat Titans   \n",
       "1  Royal Challengers Bangalore      Rajasthan Royals   \n",
       "2  Royal Challengers Bangalore  Lucknow Super Giants   \n",
       "3             Rajasthan Royals        Gujarat Titans   \n",
       "4          Sunrisers Hyderabad          Punjab Kings   \n",
       "\n",
       "                              Venue            TossWinner TossDecision  \\\n",
       "0  Narendra Modi Stadium, Ahmedabad      Rajasthan Royals          bat   \n",
       "1  Narendra Modi Stadium, Ahmedabad      Rajasthan Royals        field   \n",
       "2             Eden Gardens, Kolkata  Lucknow Super Giants        field   \n",
       "3             Eden Gardens, Kolkata        Gujarat Titans        field   \n",
       "4          Wankhede Stadium, Mumbai   Sunrisers Hyderabad          bat   \n",
       "\n",
       "  SuperOver                  WinningTeam    WonBy  Margin method  \\\n",
       "0         N               Gujarat Titans  Wickets     7.0    NaN   \n",
       "1         N             Rajasthan Royals  Wickets     7.0    NaN   \n",
       "2         N  Royal Challengers Bangalore     Runs    14.0    NaN   \n",
       "3         N               Gujarat Titans  Wickets     7.0    NaN   \n",
       "4         N                 Punjab Kings  Wickets     5.0    NaN   \n",
       "\n",
       "  Player_of_Match                                       Team1Players  \\\n",
       "0       HH Pandya  ['YBK Jaiswal', 'JC Buttler', 'SV Samson', 'D ...   \n",
       "1      JC Buttler  ['V Kohli', 'F du Plessis', 'RM Patidar', 'GJ ...   \n",
       "2      RM Patidar  ['V Kohli', 'F du Plessis', 'RM Patidar', 'GJ ...   \n",
       "3       DA Miller  ['YBK Jaiswal', 'JC Buttler', 'SV Samson', 'D ...   \n",
       "4   Harpreet Brar  ['PK Garg', 'Abhishek Sharma', 'RA Tripathi', ...   \n",
       "\n",
       "                                        Team2Players        Umpire1  \\\n",
       "0  ['WP Saha', 'Shubman Gill', 'MS Wade', 'HH Pan...    CB Gaffaney   \n",
       "1  ['YBK Jaiswal', 'JC Buttler', 'SV Samson', 'D ...    CB Gaffaney   \n",
       "2  ['Q de Kock', 'KL Rahul', 'M Vohra', 'DJ Hooda...  J Madanagopal   \n",
       "3  ['WP Saha', 'Shubman Gill', 'MS Wade', 'HH Pan...   BNJ Oxenford   \n",
       "4  ['JM Bairstow', 'S Dhawan', 'M Shahrukh Khan',...   AK Chaudhary   \n",
       "\n",
       "         Umpire2  \n",
       "0    Nitin Menon  \n",
       "1    Nitin Menon  \n",
       "2       MA Gough  \n",
       "3      VK Sharma  \n",
       "4  NA Patwardhan  "
      ]
     },
     "execution_count": 3,
     "metadata": {},
     "output_type": "execute_result"
    }
   ],
   "source": [
    "#Importing matches played dataset\n",
    "ipl_m=pd.read_csv(r\"C:\\Users\\HP\\OneDrive\\Desktop\\ipl project\\IPL_Matches_2008_2022.csv\")\n",
    "ipl_m.head()"
   ]
  },
  {
   "cell_type": "code",
   "execution_count": 4,
   "id": "cdd78c06",
   "metadata": {},
   "outputs": [
    {
     "data": {
      "text/plain": [
       "array(['Rajasthan Royals', 'Royal Challengers Bangalore',\n",
       "       'Sunrisers Hyderabad', 'Delhi Capitals', 'Chennai Super Kings',\n",
       "       'Gujarat Titans', 'Lucknow Super Giants', 'Kolkata Knight Riders',\n",
       "       'Punjab Kings', 'Mumbai Indians', 'Kings XI Punjab',\n",
       "       'Delhi Daredevils', 'Rising Pune Supergiant', 'Gujarat Lions',\n",
       "       'Rising Pune Supergiants', 'Pune Warriors', 'Deccan Chargers',\n",
       "       'Kochi Tuskers Kerala'], dtype=object)"
      ]
     },
     "execution_count": 4,
     "metadata": {},
     "output_type": "execute_result"
    }
   ],
   "source": [
    "#Lets check if teams are repeated\n",
    "ipl_m['Team1'].unique()"
   ]
  },
  {
   "cell_type": "code",
   "execution_count": 6,
   "id": "3e5972d3",
   "metadata": {},
   "outputs": [],
   "source": [
    "#Lets do some preprocessing and cleaning in ipl_m dataset\n",
    "#1.Some teams in the ipl has changed their name but we will consider them as the same franchise\n",
    "ipl_m['Team1'].replace({'Kings XI Punjab':'Punjab Kings',\n",
    "                              'Delhi Daredevils':'Delhi Capitals',\n",
    "                              'Deccan Chargers':'Sunrisers Hyderabad',\n",
    "                               'Pune Warriors':'Rising Pune Supergiants',\n",
    "                                'Rising Pune Supergiant':'Rising Pune Supergiants'},inplace=True)\n",
    "ipl_m['Team2'].replace({'Kings XI Punjab':'Punjab Kings',\n",
    "                              'Delhi Daredevils':'Delhi Capitals',\n",
    "                              'Deccan Chargers':'Sunrisers Hyderabad',\n",
    "                               'Pune Warriors':'Rising Pune Supergiants',\n",
    "                                'Rising Pune Supergiant':'Rising Pune Supergiants'},inplace=True)\n",
    "ipl_m['TossWinner'].replace({'Kings XI Punjab':'Punjab Kings',\n",
    "                              'Delhi Daredevils':'Delhi Capitals',\n",
    "                              'Deccan Chargers':'Sunrisers Hyderabad',\n",
    "                               'Pune Warriors':'Rising Pune Supergiants',\n",
    "                                'Rising Pune Supergiant':'Rising Pune Supergiants'},inplace=True)\n",
    "ipl_m['WinningTeam'].replace({'Kings XI Punjab':'Punjab Kings',\n",
    "                              'Delhi Daredevils':'Delhi Capitals',\n",
    "                              'Deccan Chargers':'Sunrisers Hyderabad',\n",
    "                               'Pune Warriors':'Rising Pune Supergiants',\n",
    "                                'Rising Pune Supergiant':'Rising Pune Supergiants'},inplace=True)\n",
    "\n",
    "\n",
    "\n",
    "\n",
    "\n",
    "\n"
   ]
  },
  {
   "cell_type": "code",
   "execution_count": 7,
   "id": "cc58c52d",
   "metadata": {},
   "outputs": [
    {
     "data": {
      "text/plain": [
       "array(['Rajasthan Royals', 'Royal Challengers Bangalore',\n",
       "       'Sunrisers Hyderabad', 'Delhi Capitals', 'Chennai Super Kings',\n",
       "       'Gujarat Titans', 'Lucknow Super Giants', 'Kolkata Knight Riders',\n",
       "       'Punjab Kings', 'Mumbai Indians', 'Rising Pune Supergiants',\n",
       "       'Gujarat Lions', 'Kochi Tuskers Kerala'], dtype=object)"
      ]
     },
     "execution_count": 7,
     "metadata": {},
     "output_type": "execute_result"
    }
   ],
   "source": [
    "#Now the teams are not repeating in any columns\n",
    "ipl_m['Team1'].unique()"
   ]
  },
  {
   "cell_type": "code",
   "execution_count": 8,
   "id": "18751ba9",
   "metadata": {},
   "outputs": [
    {
     "data": {
      "text/plain": [
       "ID                   0\n",
       "City                51\n",
       "Date                 0\n",
       "Season               0\n",
       "MatchNumber          0\n",
       "Team1                0\n",
       "Team2                0\n",
       "Venue                0\n",
       "TossWinner           0\n",
       "TossDecision         0\n",
       "SuperOver            4\n",
       "WinningTeam          4\n",
       "WonBy                0\n",
       "Margin              18\n",
       "method             931\n",
       "Player_of_Match      4\n",
       "Team1Players         0\n",
       "Team2Players         0\n",
       "Umpire1              0\n",
       "Umpire2              0\n",
       "dtype: int64"
      ]
     },
     "execution_count": 8,
     "metadata": {},
     "output_type": "execute_result"
    }
   ],
   "source": [
    "#Lets check if there are any duplicates\n",
    "ipl_m.isnull().sum()"
   ]
  },
  {
   "cell_type": "code",
   "execution_count": null,
   "id": "eaef5f51",
   "metadata": {},
   "outputs": [],
   "source": [
    "#Since the method and margin columns have some missing values we will not delete them either we cannot replace them\n",
    "#by our basic understanding as they are real life data and depends match to match,\n",
    "#2.City values are missing but Venue which is more imp column has no missing values so we are good to go.\n"
   ]
  },
  {
   "cell_type": "code",
   "execution_count": 9,
   "id": "48b94ecc",
   "metadata": {},
   "outputs": [
    {
     "data": {
      "text/plain": [
       "0"
      ]
     },
     "execution_count": 9,
     "metadata": {},
     "output_type": "execute_result"
    }
   ],
   "source": [
    "#lets check if there are duplicated values\n",
    "ipl_m.duplicated().sum()"
   ]
  },
  {
   "cell_type": "code",
   "execution_count": null,
   "id": "262dc25d",
   "metadata": {},
   "outputs": [],
   "source": [
    "#There are no duplicates."
   ]
  },
  {
   "cell_type": "code",
   "execution_count": 10,
   "id": "d984ca56",
   "metadata": {},
   "outputs": [
    {
     "name": "stdout",
     "output_type": "stream",
     "text": [
      "<class 'pandas.core.frame.DataFrame'>\n",
      "RangeIndex: 950 entries, 0 to 949\n",
      "Data columns (total 20 columns):\n",
      " #   Column           Non-Null Count  Dtype  \n",
      "---  ------           --------------  -----  \n",
      " 0   ID               950 non-null    int64  \n",
      " 1   City             899 non-null    object \n",
      " 2   Date             950 non-null    object \n",
      " 3   Season           950 non-null    object \n",
      " 4   MatchNumber      950 non-null    object \n",
      " 5   Team1            950 non-null    object \n",
      " 6   Team2            950 non-null    object \n",
      " 7   Venue            950 non-null    object \n",
      " 8   TossWinner       950 non-null    object \n",
      " 9   TossDecision     950 non-null    object \n",
      " 10  SuperOver        946 non-null    object \n",
      " 11  WinningTeam      946 non-null    object \n",
      " 12  WonBy            950 non-null    object \n",
      " 13  Margin           932 non-null    float64\n",
      " 14  method           19 non-null     object \n",
      " 15  Player_of_Match  946 non-null    object \n",
      " 16  Team1Players     950 non-null    object \n",
      " 17  Team2Players     950 non-null    object \n",
      " 18  Umpire1          950 non-null    object \n",
      " 19  Umpire2          950 non-null    object \n",
      "dtypes: float64(1), int64(1), object(18)\n",
      "memory usage: 148.6+ KB\n"
     ]
    }
   ],
   "source": [
    "#Lets check the datatype of the colums\n",
    "ipl_m.info()"
   ]
  },
  {
   "cell_type": "code",
   "execution_count": 11,
   "id": "a61373e3",
   "metadata": {},
   "outputs": [
    {
     "data": {
      "text/html": [
       "<div>\n",
       "<style scoped>\n",
       "    .dataframe tbody tr th:only-of-type {\n",
       "        vertical-align: middle;\n",
       "    }\n",
       "\n",
       "    .dataframe tbody tr th {\n",
       "        vertical-align: top;\n",
       "    }\n",
       "\n",
       "    .dataframe thead th {\n",
       "        text-align: right;\n",
       "    }\n",
       "</style>\n",
       "<table border=\"1\" class=\"dataframe\">\n",
       "  <thead>\n",
       "    <tr style=\"text-align: right;\">\n",
       "      <th></th>\n",
       "      <th>ID</th>\n",
       "      <th>innings</th>\n",
       "      <th>overs</th>\n",
       "      <th>ballnumber</th>\n",
       "      <th>batter</th>\n",
       "      <th>bowler</th>\n",
       "      <th>non-striker</th>\n",
       "      <th>extra_type</th>\n",
       "      <th>batsman_run</th>\n",
       "      <th>extras_run</th>\n",
       "      <th>total_run</th>\n",
       "      <th>non_boundary</th>\n",
       "      <th>isWicketDelivery</th>\n",
       "      <th>player_out</th>\n",
       "      <th>kind</th>\n",
       "      <th>fielders_involved</th>\n",
       "      <th>BattingTeam</th>\n",
       "    </tr>\n",
       "  </thead>\n",
       "  <tbody>\n",
       "    <tr>\n",
       "      <th>0</th>\n",
       "      <td>1312200</td>\n",
       "      <td>1</td>\n",
       "      <td>0</td>\n",
       "      <td>1</td>\n",
       "      <td>YBK Jaiswal</td>\n",
       "      <td>Mohammed Shami</td>\n",
       "      <td>JC Buttler</td>\n",
       "      <td>NaN</td>\n",
       "      <td>0</td>\n",
       "      <td>0</td>\n",
       "      <td>0</td>\n",
       "      <td>0</td>\n",
       "      <td>0</td>\n",
       "      <td>NaN</td>\n",
       "      <td>NaN</td>\n",
       "      <td>NaN</td>\n",
       "      <td>Rajasthan Royals</td>\n",
       "    </tr>\n",
       "    <tr>\n",
       "      <th>1</th>\n",
       "      <td>1312200</td>\n",
       "      <td>1</td>\n",
       "      <td>0</td>\n",
       "      <td>2</td>\n",
       "      <td>YBK Jaiswal</td>\n",
       "      <td>Mohammed Shami</td>\n",
       "      <td>JC Buttler</td>\n",
       "      <td>legbyes</td>\n",
       "      <td>0</td>\n",
       "      <td>1</td>\n",
       "      <td>1</td>\n",
       "      <td>0</td>\n",
       "      <td>0</td>\n",
       "      <td>NaN</td>\n",
       "      <td>NaN</td>\n",
       "      <td>NaN</td>\n",
       "      <td>Rajasthan Royals</td>\n",
       "    </tr>\n",
       "    <tr>\n",
       "      <th>2</th>\n",
       "      <td>1312200</td>\n",
       "      <td>1</td>\n",
       "      <td>0</td>\n",
       "      <td>3</td>\n",
       "      <td>JC Buttler</td>\n",
       "      <td>Mohammed Shami</td>\n",
       "      <td>YBK Jaiswal</td>\n",
       "      <td>NaN</td>\n",
       "      <td>1</td>\n",
       "      <td>0</td>\n",
       "      <td>1</td>\n",
       "      <td>0</td>\n",
       "      <td>0</td>\n",
       "      <td>NaN</td>\n",
       "      <td>NaN</td>\n",
       "      <td>NaN</td>\n",
       "      <td>Rajasthan Royals</td>\n",
       "    </tr>\n",
       "    <tr>\n",
       "      <th>3</th>\n",
       "      <td>1312200</td>\n",
       "      <td>1</td>\n",
       "      <td>0</td>\n",
       "      <td>4</td>\n",
       "      <td>YBK Jaiswal</td>\n",
       "      <td>Mohammed Shami</td>\n",
       "      <td>JC Buttler</td>\n",
       "      <td>NaN</td>\n",
       "      <td>0</td>\n",
       "      <td>0</td>\n",
       "      <td>0</td>\n",
       "      <td>0</td>\n",
       "      <td>0</td>\n",
       "      <td>NaN</td>\n",
       "      <td>NaN</td>\n",
       "      <td>NaN</td>\n",
       "      <td>Rajasthan Royals</td>\n",
       "    </tr>\n",
       "    <tr>\n",
       "      <th>4</th>\n",
       "      <td>1312200</td>\n",
       "      <td>1</td>\n",
       "      <td>0</td>\n",
       "      <td>5</td>\n",
       "      <td>YBK Jaiswal</td>\n",
       "      <td>Mohammed Shami</td>\n",
       "      <td>JC Buttler</td>\n",
       "      <td>NaN</td>\n",
       "      <td>0</td>\n",
       "      <td>0</td>\n",
       "      <td>0</td>\n",
       "      <td>0</td>\n",
       "      <td>0</td>\n",
       "      <td>NaN</td>\n",
       "      <td>NaN</td>\n",
       "      <td>NaN</td>\n",
       "      <td>Rajasthan Royals</td>\n",
       "    </tr>\n",
       "  </tbody>\n",
       "</table>\n",
       "</div>"
      ],
      "text/plain": [
       "        ID  innings  overs  ballnumber       batter          bowler  \\\n",
       "0  1312200        1      0           1  YBK Jaiswal  Mohammed Shami   \n",
       "1  1312200        1      0           2  YBK Jaiswal  Mohammed Shami   \n",
       "2  1312200        1      0           3   JC Buttler  Mohammed Shami   \n",
       "3  1312200        1      0           4  YBK Jaiswal  Mohammed Shami   \n",
       "4  1312200        1      0           5  YBK Jaiswal  Mohammed Shami   \n",
       "\n",
       "   non-striker extra_type  batsman_run  extras_run  total_run  non_boundary  \\\n",
       "0   JC Buttler        NaN            0           0          0             0   \n",
       "1   JC Buttler    legbyes            0           1          1             0   \n",
       "2  YBK Jaiswal        NaN            1           0          1             0   \n",
       "3   JC Buttler        NaN            0           0          0             0   \n",
       "4   JC Buttler        NaN            0           0          0             0   \n",
       "\n",
       "   isWicketDelivery player_out kind fielders_involved       BattingTeam  \n",
       "0                 0        NaN  NaN               NaN  Rajasthan Royals  \n",
       "1                 0        NaN  NaN               NaN  Rajasthan Royals  \n",
       "2                 0        NaN  NaN               NaN  Rajasthan Royals  \n",
       "3                 0        NaN  NaN               NaN  Rajasthan Royals  \n",
       "4                 0        NaN  NaN               NaN  Rajasthan Royals  "
      ]
     },
     "execution_count": 11,
     "metadata": {},
     "output_type": "execute_result"
    }
   ],
   "source": [
    "#Importing IPl's ball by ball dataset\n",
    "ipl_d=pd.read_csv(r\"C:\\Users\\HP\\OneDrive\\Desktop\\ipl project\\IPL_Ball_by_Ball_2008_2022.csv\")\n",
    "ipl_d.head()\n"
   ]
  },
  {
   "cell_type": "code",
   "execution_count": 12,
   "id": "a3c00968",
   "metadata": {},
   "outputs": [
    {
     "data": {
      "text/plain": [
       "ID                        0\n",
       "innings                   0\n",
       "overs                     0\n",
       "ballnumber                0\n",
       "batter                    0\n",
       "bowler                    0\n",
       "non-striker               0\n",
       "extra_type           213905\n",
       "batsman_run               0\n",
       "extras_run                0\n",
       "total_run                 0\n",
       "non_boundary              0\n",
       "isWicketDelivery          0\n",
       "player_out           214803\n",
       "kind                 214803\n",
       "fielders_involved    217966\n",
       "BattingTeam               0\n",
       "dtype: int64"
      ]
     },
     "execution_count": 12,
     "metadata": {},
     "output_type": "execute_result"
    }
   ],
   "source": [
    "#lets check null values\n",
    "ipl_d.isnull().sum()"
   ]
  },
  {
   "cell_type": "code",
   "execution_count": 13,
   "id": "5ff86c60",
   "metadata": {},
   "outputs": [],
   "source": [
    "#here again we cannot replace the missing values columns with any data but since all the data are empty we will drop this colums\n",
    "ipl_d.drop(columns=['extra_type','player_out','kind','fielders_involved'],inplace=True)"
   ]
  },
  {
   "cell_type": "code",
   "execution_count": 14,
   "id": "da9c474e",
   "metadata": {},
   "outputs": [
    {
     "data": {
      "text/plain": [
       "ID                  0\n",
       "innings             0\n",
       "overs               0\n",
       "ballnumber          0\n",
       "batter              0\n",
       "bowler              0\n",
       "non-striker         0\n",
       "batsman_run         0\n",
       "extras_run          0\n",
       "total_run           0\n",
       "non_boundary        0\n",
       "isWicketDelivery    0\n",
       "BattingTeam         0\n",
       "dtype: int64"
      ]
     },
     "execution_count": 14,
     "metadata": {},
     "output_type": "execute_result"
    }
   ],
   "source": [
    "ipl_d.isnull().sum()"
   ]
  },
  {
   "cell_type": "code",
   "execution_count": 15,
   "id": "44eac5ef",
   "metadata": {},
   "outputs": [
    {
     "data": {
      "text/html": [
       "<div>\n",
       "<style scoped>\n",
       "    .dataframe tbody tr th:only-of-type {\n",
       "        vertical-align: middle;\n",
       "    }\n",
       "\n",
       "    .dataframe tbody tr th {\n",
       "        vertical-align: top;\n",
       "    }\n",
       "\n",
       "    .dataframe thead th {\n",
       "        text-align: right;\n",
       "    }\n",
       "</style>\n",
       "<table border=\"1\" class=\"dataframe\">\n",
       "  <thead>\n",
       "    <tr style=\"text-align: right;\">\n",
       "      <th></th>\n",
       "      <th>ID</th>\n",
       "      <th>innings</th>\n",
       "      <th>overs</th>\n",
       "      <th>ballnumber</th>\n",
       "      <th>batter</th>\n",
       "      <th>bowler</th>\n",
       "      <th>non-striker</th>\n",
       "      <th>batsman_run</th>\n",
       "      <th>extras_run</th>\n",
       "      <th>total_run</th>\n",
       "      <th>non_boundary</th>\n",
       "      <th>isWicketDelivery</th>\n",
       "      <th>BattingTeam</th>\n",
       "    </tr>\n",
       "  </thead>\n",
       "  <tbody>\n",
       "    <tr>\n",
       "      <th>0</th>\n",
       "      <td>1312200</td>\n",
       "      <td>1</td>\n",
       "      <td>0</td>\n",
       "      <td>1</td>\n",
       "      <td>YBK Jaiswal</td>\n",
       "      <td>Mohammed Shami</td>\n",
       "      <td>JC Buttler</td>\n",
       "      <td>0</td>\n",
       "      <td>0</td>\n",
       "      <td>0</td>\n",
       "      <td>0</td>\n",
       "      <td>0</td>\n",
       "      <td>Rajasthan Royals</td>\n",
       "    </tr>\n",
       "    <tr>\n",
       "      <th>1</th>\n",
       "      <td>1312200</td>\n",
       "      <td>1</td>\n",
       "      <td>0</td>\n",
       "      <td>2</td>\n",
       "      <td>YBK Jaiswal</td>\n",
       "      <td>Mohammed Shami</td>\n",
       "      <td>JC Buttler</td>\n",
       "      <td>0</td>\n",
       "      <td>1</td>\n",
       "      <td>1</td>\n",
       "      <td>0</td>\n",
       "      <td>0</td>\n",
       "      <td>Rajasthan Royals</td>\n",
       "    </tr>\n",
       "    <tr>\n",
       "      <th>2</th>\n",
       "      <td>1312200</td>\n",
       "      <td>1</td>\n",
       "      <td>0</td>\n",
       "      <td>3</td>\n",
       "      <td>JC Buttler</td>\n",
       "      <td>Mohammed Shami</td>\n",
       "      <td>YBK Jaiswal</td>\n",
       "      <td>1</td>\n",
       "      <td>0</td>\n",
       "      <td>1</td>\n",
       "      <td>0</td>\n",
       "      <td>0</td>\n",
       "      <td>Rajasthan Royals</td>\n",
       "    </tr>\n",
       "    <tr>\n",
       "      <th>3</th>\n",
       "      <td>1312200</td>\n",
       "      <td>1</td>\n",
       "      <td>0</td>\n",
       "      <td>4</td>\n",
       "      <td>YBK Jaiswal</td>\n",
       "      <td>Mohammed Shami</td>\n",
       "      <td>JC Buttler</td>\n",
       "      <td>0</td>\n",
       "      <td>0</td>\n",
       "      <td>0</td>\n",
       "      <td>0</td>\n",
       "      <td>0</td>\n",
       "      <td>Rajasthan Royals</td>\n",
       "    </tr>\n",
       "    <tr>\n",
       "      <th>4</th>\n",
       "      <td>1312200</td>\n",
       "      <td>1</td>\n",
       "      <td>0</td>\n",
       "      <td>5</td>\n",
       "      <td>YBK Jaiswal</td>\n",
       "      <td>Mohammed Shami</td>\n",
       "      <td>JC Buttler</td>\n",
       "      <td>0</td>\n",
       "      <td>0</td>\n",
       "      <td>0</td>\n",
       "      <td>0</td>\n",
       "      <td>0</td>\n",
       "      <td>Rajasthan Royals</td>\n",
       "    </tr>\n",
       "  </tbody>\n",
       "</table>\n",
       "</div>"
      ],
      "text/plain": [
       "        ID  innings  overs  ballnumber       batter          bowler  \\\n",
       "0  1312200        1      0           1  YBK Jaiswal  Mohammed Shami   \n",
       "1  1312200        1      0           2  YBK Jaiswal  Mohammed Shami   \n",
       "2  1312200        1      0           3   JC Buttler  Mohammed Shami   \n",
       "3  1312200        1      0           4  YBK Jaiswal  Mohammed Shami   \n",
       "4  1312200        1      0           5  YBK Jaiswal  Mohammed Shami   \n",
       "\n",
       "   non-striker  batsman_run  extras_run  total_run  non_boundary  \\\n",
       "0   JC Buttler            0           0          0             0   \n",
       "1   JC Buttler            0           1          1             0   \n",
       "2  YBK Jaiswal            1           0          1             0   \n",
       "3   JC Buttler            0           0          0             0   \n",
       "4   JC Buttler            0           0          0             0   \n",
       "\n",
       "   isWicketDelivery       BattingTeam  \n",
       "0                 0  Rajasthan Royals  \n",
       "1                 0  Rajasthan Royals  \n",
       "2                 0  Rajasthan Royals  \n",
       "3                 0  Rajasthan Royals  \n",
       "4                 0  Rajasthan Royals  "
      ]
     },
     "execution_count": 15,
     "metadata": {},
     "output_type": "execute_result"
    }
   ],
   "source": [
    "#As we can see above all the nan columns have been deleted\n",
    "ipl_d.head()"
   ]
  },
  {
   "cell_type": "code",
   "execution_count": 16,
   "id": "d94609f1",
   "metadata": {},
   "outputs": [
    {
     "data": {
      "text/plain": [
       "0"
      ]
     },
     "execution_count": 16,
     "metadata": {},
     "output_type": "execute_result"
    }
   ],
   "source": [
    "#lets check the duplicate values\n",
    "ipl_d.duplicated().sum()"
   ]
  },
  {
   "cell_type": "code",
   "execution_count": null,
   "id": "d8dc6b28",
   "metadata": {},
   "outputs": [],
   "source": [
    "#There are no dupllicates"
   ]
  },
  {
   "cell_type": "code",
   "execution_count": 17,
   "id": "25f71e5e",
   "metadata": {},
   "outputs": [
    {
     "data": {
      "text/html": [
       "<div>\n",
       "<style scoped>\n",
       "    .dataframe tbody tr th:only-of-type {\n",
       "        vertical-align: middle;\n",
       "    }\n",
       "\n",
       "    .dataframe tbody tr th {\n",
       "        vertical-align: top;\n",
       "    }\n",
       "\n",
       "    .dataframe thead th {\n",
       "        text-align: right;\n",
       "    }\n",
       "</style>\n",
       "<table border=\"1\" class=\"dataframe\">\n",
       "  <thead>\n",
       "    <tr style=\"text-align: right;\">\n",
       "      <th></th>\n",
       "      <th>ID</th>\n",
       "      <th>innings</th>\n",
       "      <th>overs</th>\n",
       "      <th>ballnumber</th>\n",
       "      <th>batter</th>\n",
       "      <th>bowler</th>\n",
       "      <th>non-striker</th>\n",
       "      <th>batsman_run</th>\n",
       "      <th>extras_run</th>\n",
       "      <th>total_run</th>\n",
       "      <th>...</th>\n",
       "      <th>SuperOver</th>\n",
       "      <th>WinningTeam</th>\n",
       "      <th>WonBy</th>\n",
       "      <th>Margin</th>\n",
       "      <th>method</th>\n",
       "      <th>Player_of_Match</th>\n",
       "      <th>Team1Players</th>\n",
       "      <th>Team2Players</th>\n",
       "      <th>Umpire1</th>\n",
       "      <th>Umpire2</th>\n",
       "    </tr>\n",
       "  </thead>\n",
       "  <tbody>\n",
       "    <tr>\n",
       "      <th>0</th>\n",
       "      <td>1312200</td>\n",
       "      <td>1</td>\n",
       "      <td>0</td>\n",
       "      <td>1</td>\n",
       "      <td>YBK Jaiswal</td>\n",
       "      <td>Mohammed Shami</td>\n",
       "      <td>JC Buttler</td>\n",
       "      <td>0</td>\n",
       "      <td>0</td>\n",
       "      <td>0</td>\n",
       "      <td>...</td>\n",
       "      <td>N</td>\n",
       "      <td>Gujarat Titans</td>\n",
       "      <td>Wickets</td>\n",
       "      <td>7.0</td>\n",
       "      <td>NaN</td>\n",
       "      <td>HH Pandya</td>\n",
       "      <td>['YBK Jaiswal', 'JC Buttler', 'SV Samson', 'D ...</td>\n",
       "      <td>['WP Saha', 'Shubman Gill', 'MS Wade', 'HH Pan...</td>\n",
       "      <td>CB Gaffaney</td>\n",
       "      <td>Nitin Menon</td>\n",
       "    </tr>\n",
       "    <tr>\n",
       "      <th>1</th>\n",
       "      <td>1312200</td>\n",
       "      <td>1</td>\n",
       "      <td>0</td>\n",
       "      <td>2</td>\n",
       "      <td>YBK Jaiswal</td>\n",
       "      <td>Mohammed Shami</td>\n",
       "      <td>JC Buttler</td>\n",
       "      <td>0</td>\n",
       "      <td>1</td>\n",
       "      <td>1</td>\n",
       "      <td>...</td>\n",
       "      <td>N</td>\n",
       "      <td>Gujarat Titans</td>\n",
       "      <td>Wickets</td>\n",
       "      <td>7.0</td>\n",
       "      <td>NaN</td>\n",
       "      <td>HH Pandya</td>\n",
       "      <td>['YBK Jaiswal', 'JC Buttler', 'SV Samson', 'D ...</td>\n",
       "      <td>['WP Saha', 'Shubman Gill', 'MS Wade', 'HH Pan...</td>\n",
       "      <td>CB Gaffaney</td>\n",
       "      <td>Nitin Menon</td>\n",
       "    </tr>\n",
       "    <tr>\n",
       "      <th>2</th>\n",
       "      <td>1312200</td>\n",
       "      <td>1</td>\n",
       "      <td>0</td>\n",
       "      <td>3</td>\n",
       "      <td>JC Buttler</td>\n",
       "      <td>Mohammed Shami</td>\n",
       "      <td>YBK Jaiswal</td>\n",
       "      <td>1</td>\n",
       "      <td>0</td>\n",
       "      <td>1</td>\n",
       "      <td>...</td>\n",
       "      <td>N</td>\n",
       "      <td>Gujarat Titans</td>\n",
       "      <td>Wickets</td>\n",
       "      <td>7.0</td>\n",
       "      <td>NaN</td>\n",
       "      <td>HH Pandya</td>\n",
       "      <td>['YBK Jaiswal', 'JC Buttler', 'SV Samson', 'D ...</td>\n",
       "      <td>['WP Saha', 'Shubman Gill', 'MS Wade', 'HH Pan...</td>\n",
       "      <td>CB Gaffaney</td>\n",
       "      <td>Nitin Menon</td>\n",
       "    </tr>\n",
       "    <tr>\n",
       "      <th>3</th>\n",
       "      <td>1312200</td>\n",
       "      <td>1</td>\n",
       "      <td>0</td>\n",
       "      <td>4</td>\n",
       "      <td>YBK Jaiswal</td>\n",
       "      <td>Mohammed Shami</td>\n",
       "      <td>JC Buttler</td>\n",
       "      <td>0</td>\n",
       "      <td>0</td>\n",
       "      <td>0</td>\n",
       "      <td>...</td>\n",
       "      <td>N</td>\n",
       "      <td>Gujarat Titans</td>\n",
       "      <td>Wickets</td>\n",
       "      <td>7.0</td>\n",
       "      <td>NaN</td>\n",
       "      <td>HH Pandya</td>\n",
       "      <td>['YBK Jaiswal', 'JC Buttler', 'SV Samson', 'D ...</td>\n",
       "      <td>['WP Saha', 'Shubman Gill', 'MS Wade', 'HH Pan...</td>\n",
       "      <td>CB Gaffaney</td>\n",
       "      <td>Nitin Menon</td>\n",
       "    </tr>\n",
       "    <tr>\n",
       "      <th>4</th>\n",
       "      <td>1312200</td>\n",
       "      <td>1</td>\n",
       "      <td>0</td>\n",
       "      <td>5</td>\n",
       "      <td>YBK Jaiswal</td>\n",
       "      <td>Mohammed Shami</td>\n",
       "      <td>JC Buttler</td>\n",
       "      <td>0</td>\n",
       "      <td>0</td>\n",
       "      <td>0</td>\n",
       "      <td>...</td>\n",
       "      <td>N</td>\n",
       "      <td>Gujarat Titans</td>\n",
       "      <td>Wickets</td>\n",
       "      <td>7.0</td>\n",
       "      <td>NaN</td>\n",
       "      <td>HH Pandya</td>\n",
       "      <td>['YBK Jaiswal', 'JC Buttler', 'SV Samson', 'D ...</td>\n",
       "      <td>['WP Saha', 'Shubman Gill', 'MS Wade', 'HH Pan...</td>\n",
       "      <td>CB Gaffaney</td>\n",
       "      <td>Nitin Menon</td>\n",
       "    </tr>\n",
       "    <tr>\n",
       "      <th>...</th>\n",
       "      <td>...</td>\n",
       "      <td>...</td>\n",
       "      <td>...</td>\n",
       "      <td>...</td>\n",
       "      <td>...</td>\n",
       "      <td>...</td>\n",
       "      <td>...</td>\n",
       "      <td>...</td>\n",
       "      <td>...</td>\n",
       "      <td>...</td>\n",
       "      <td>...</td>\n",
       "      <td>...</td>\n",
       "      <td>...</td>\n",
       "      <td>...</td>\n",
       "      <td>...</td>\n",
       "      <td>...</td>\n",
       "      <td>...</td>\n",
       "      <td>...</td>\n",
       "      <td>...</td>\n",
       "      <td>...</td>\n",
       "      <td>...</td>\n",
       "    </tr>\n",
       "    <tr>\n",
       "      <th>225949</th>\n",
       "      <td>335982</td>\n",
       "      <td>2</td>\n",
       "      <td>14</td>\n",
       "      <td>5</td>\n",
       "      <td>P Kumar</td>\n",
       "      <td>I Sharma</td>\n",
       "      <td>SB Joshi</td>\n",
       "      <td>0</td>\n",
       "      <td>1</td>\n",
       "      <td>1</td>\n",
       "      <td>...</td>\n",
       "      <td>N</td>\n",
       "      <td>Kolkata Knight Riders</td>\n",
       "      <td>Runs</td>\n",
       "      <td>140.0</td>\n",
       "      <td>NaN</td>\n",
       "      <td>BB McCullum</td>\n",
       "      <td>['R Dravid', 'W Jaffer', 'V Kohli', 'JH Kallis...</td>\n",
       "      <td>['SC Ganguly', 'BB McCullum', 'RT Ponting', 'D...</td>\n",
       "      <td>Asad Rauf</td>\n",
       "      <td>RE Koertzen</td>\n",
       "    </tr>\n",
       "    <tr>\n",
       "      <th>225950</th>\n",
       "      <td>335982</td>\n",
       "      <td>2</td>\n",
       "      <td>14</td>\n",
       "      <td>6</td>\n",
       "      <td>SB Joshi</td>\n",
       "      <td>I Sharma</td>\n",
       "      <td>P Kumar</td>\n",
       "      <td>1</td>\n",
       "      <td>0</td>\n",
       "      <td>1</td>\n",
       "      <td>...</td>\n",
       "      <td>N</td>\n",
       "      <td>Kolkata Knight Riders</td>\n",
       "      <td>Runs</td>\n",
       "      <td>140.0</td>\n",
       "      <td>NaN</td>\n",
       "      <td>BB McCullum</td>\n",
       "      <td>['R Dravid', 'W Jaffer', 'V Kohli', 'JH Kallis...</td>\n",
       "      <td>['SC Ganguly', 'BB McCullum', 'RT Ponting', 'D...</td>\n",
       "      <td>Asad Rauf</td>\n",
       "      <td>RE Koertzen</td>\n",
       "    </tr>\n",
       "    <tr>\n",
       "      <th>225951</th>\n",
       "      <td>335982</td>\n",
       "      <td>2</td>\n",
       "      <td>14</td>\n",
       "      <td>7</td>\n",
       "      <td>P Kumar</td>\n",
       "      <td>I Sharma</td>\n",
       "      <td>SB Joshi</td>\n",
       "      <td>0</td>\n",
       "      <td>0</td>\n",
       "      <td>0</td>\n",
       "      <td>...</td>\n",
       "      <td>N</td>\n",
       "      <td>Kolkata Knight Riders</td>\n",
       "      <td>Runs</td>\n",
       "      <td>140.0</td>\n",
       "      <td>NaN</td>\n",
       "      <td>BB McCullum</td>\n",
       "      <td>['R Dravid', 'W Jaffer', 'V Kohli', 'JH Kallis...</td>\n",
       "      <td>['SC Ganguly', 'BB McCullum', 'RT Ponting', 'D...</td>\n",
       "      <td>Asad Rauf</td>\n",
       "      <td>RE Koertzen</td>\n",
       "    </tr>\n",
       "    <tr>\n",
       "      <th>225952</th>\n",
       "      <td>335982</td>\n",
       "      <td>2</td>\n",
       "      <td>15</td>\n",
       "      <td>1</td>\n",
       "      <td>SB Joshi</td>\n",
       "      <td>LR Shukla</td>\n",
       "      <td>P Kumar</td>\n",
       "      <td>0</td>\n",
       "      <td>1</td>\n",
       "      <td>1</td>\n",
       "      <td>...</td>\n",
       "      <td>N</td>\n",
       "      <td>Kolkata Knight Riders</td>\n",
       "      <td>Runs</td>\n",
       "      <td>140.0</td>\n",
       "      <td>NaN</td>\n",
       "      <td>BB McCullum</td>\n",
       "      <td>['R Dravid', 'W Jaffer', 'V Kohli', 'JH Kallis...</td>\n",
       "      <td>['SC Ganguly', 'BB McCullum', 'RT Ponting', 'D...</td>\n",
       "      <td>Asad Rauf</td>\n",
       "      <td>RE Koertzen</td>\n",
       "    </tr>\n",
       "    <tr>\n",
       "      <th>225953</th>\n",
       "      <td>335982</td>\n",
       "      <td>2</td>\n",
       "      <td>15</td>\n",
       "      <td>2</td>\n",
       "      <td>SB Joshi</td>\n",
       "      <td>LR Shukla</td>\n",
       "      <td>P Kumar</td>\n",
       "      <td>0</td>\n",
       "      <td>0</td>\n",
       "      <td>0</td>\n",
       "      <td>...</td>\n",
       "      <td>N</td>\n",
       "      <td>Kolkata Knight Riders</td>\n",
       "      <td>Runs</td>\n",
       "      <td>140.0</td>\n",
       "      <td>NaN</td>\n",
       "      <td>BB McCullum</td>\n",
       "      <td>['R Dravid', 'W Jaffer', 'V Kohli', 'JH Kallis...</td>\n",
       "      <td>['SC Ganguly', 'BB McCullum', 'RT Ponting', 'D...</td>\n",
       "      <td>Asad Rauf</td>\n",
       "      <td>RE Koertzen</td>\n",
       "    </tr>\n",
       "  </tbody>\n",
       "</table>\n",
       "<p>225954 rows × 32 columns</p>\n",
       "</div>"
      ],
      "text/plain": [
       "             ID  innings  overs  ballnumber       batter          bowler  \\\n",
       "0       1312200        1      0           1  YBK Jaiswal  Mohammed Shami   \n",
       "1       1312200        1      0           2  YBK Jaiswal  Mohammed Shami   \n",
       "2       1312200        1      0           3   JC Buttler  Mohammed Shami   \n",
       "3       1312200        1      0           4  YBK Jaiswal  Mohammed Shami   \n",
       "4       1312200        1      0           5  YBK Jaiswal  Mohammed Shami   \n",
       "...         ...      ...    ...         ...          ...             ...   \n",
       "225949   335982        2     14           5      P Kumar        I Sharma   \n",
       "225950   335982        2     14           6     SB Joshi        I Sharma   \n",
       "225951   335982        2     14           7      P Kumar        I Sharma   \n",
       "225952   335982        2     15           1     SB Joshi       LR Shukla   \n",
       "225953   335982        2     15           2     SB Joshi       LR Shukla   \n",
       "\n",
       "        non-striker  batsman_run  extras_run  total_run  ...  SuperOver  \\\n",
       "0        JC Buttler            0           0          0  ...          N   \n",
       "1        JC Buttler            0           1          1  ...          N   \n",
       "2       YBK Jaiswal            1           0          1  ...          N   \n",
       "3        JC Buttler            0           0          0  ...          N   \n",
       "4        JC Buttler            0           0          0  ...          N   \n",
       "...             ...          ...         ...        ...  ...        ...   \n",
       "225949     SB Joshi            0           1          1  ...          N   \n",
       "225950      P Kumar            1           0          1  ...          N   \n",
       "225951     SB Joshi            0           0          0  ...          N   \n",
       "225952      P Kumar            0           1          1  ...          N   \n",
       "225953      P Kumar            0           0          0  ...          N   \n",
       "\n",
       "                  WinningTeam    WonBy Margin method Player_of_Match  \\\n",
       "0              Gujarat Titans  Wickets    7.0    NaN       HH Pandya   \n",
       "1              Gujarat Titans  Wickets    7.0    NaN       HH Pandya   \n",
       "2              Gujarat Titans  Wickets    7.0    NaN       HH Pandya   \n",
       "3              Gujarat Titans  Wickets    7.0    NaN       HH Pandya   \n",
       "4              Gujarat Titans  Wickets    7.0    NaN       HH Pandya   \n",
       "...                       ...      ...    ...    ...             ...   \n",
       "225949  Kolkata Knight Riders     Runs  140.0    NaN     BB McCullum   \n",
       "225950  Kolkata Knight Riders     Runs  140.0    NaN     BB McCullum   \n",
       "225951  Kolkata Knight Riders     Runs  140.0    NaN     BB McCullum   \n",
       "225952  Kolkata Knight Riders     Runs  140.0    NaN     BB McCullum   \n",
       "225953  Kolkata Knight Riders     Runs  140.0    NaN     BB McCullum   \n",
       "\n",
       "                                             Team1Players  \\\n",
       "0       ['YBK Jaiswal', 'JC Buttler', 'SV Samson', 'D ...   \n",
       "1       ['YBK Jaiswal', 'JC Buttler', 'SV Samson', 'D ...   \n",
       "2       ['YBK Jaiswal', 'JC Buttler', 'SV Samson', 'D ...   \n",
       "3       ['YBK Jaiswal', 'JC Buttler', 'SV Samson', 'D ...   \n",
       "4       ['YBK Jaiswal', 'JC Buttler', 'SV Samson', 'D ...   \n",
       "...                                                   ...   \n",
       "225949  ['R Dravid', 'W Jaffer', 'V Kohli', 'JH Kallis...   \n",
       "225950  ['R Dravid', 'W Jaffer', 'V Kohli', 'JH Kallis...   \n",
       "225951  ['R Dravid', 'W Jaffer', 'V Kohli', 'JH Kallis...   \n",
       "225952  ['R Dravid', 'W Jaffer', 'V Kohli', 'JH Kallis...   \n",
       "225953  ['R Dravid', 'W Jaffer', 'V Kohli', 'JH Kallis...   \n",
       "\n",
       "                                             Team2Players      Umpire1  \\\n",
       "0       ['WP Saha', 'Shubman Gill', 'MS Wade', 'HH Pan...  CB Gaffaney   \n",
       "1       ['WP Saha', 'Shubman Gill', 'MS Wade', 'HH Pan...  CB Gaffaney   \n",
       "2       ['WP Saha', 'Shubman Gill', 'MS Wade', 'HH Pan...  CB Gaffaney   \n",
       "3       ['WP Saha', 'Shubman Gill', 'MS Wade', 'HH Pan...  CB Gaffaney   \n",
       "4       ['WP Saha', 'Shubman Gill', 'MS Wade', 'HH Pan...  CB Gaffaney   \n",
       "...                                                   ...          ...   \n",
       "225949  ['SC Ganguly', 'BB McCullum', 'RT Ponting', 'D...    Asad Rauf   \n",
       "225950  ['SC Ganguly', 'BB McCullum', 'RT Ponting', 'D...    Asad Rauf   \n",
       "225951  ['SC Ganguly', 'BB McCullum', 'RT Ponting', 'D...    Asad Rauf   \n",
       "225952  ['SC Ganguly', 'BB McCullum', 'RT Ponting', 'D...    Asad Rauf   \n",
       "225953  ['SC Ganguly', 'BB McCullum', 'RT Ponting', 'D...    Asad Rauf   \n",
       "\n",
       "            Umpire2  \n",
       "0       Nitin Menon  \n",
       "1       Nitin Menon  \n",
       "2       Nitin Menon  \n",
       "3       Nitin Menon  \n",
       "4       Nitin Menon  \n",
       "...             ...  \n",
       "225949  RE Koertzen  \n",
       "225950  RE Koertzen  \n",
       "225951  RE Koertzen  \n",
       "225952  RE Koertzen  \n",
       "225953  RE Koertzen  \n",
       "\n",
       "[225954 rows x 32 columns]"
      ]
     },
     "execution_count": 17,
     "metadata": {},
     "output_type": "execute_result"
    }
   ],
   "source": [
    "#Merging both the datasets so that we can get more deep insights\n",
    "joined=ipl_d.merge(ipl_m,left_on='ID',right_on='ID')\n",
    "joined"
   ]
  },
  {
   "cell_type": "code",
   "execution_count": 18,
   "id": "84c8c422",
   "metadata": {},
   "outputs": [
    {
     "data": {
      "text/plain": [
       "(225954, 225954)"
      ]
     },
     "execution_count": 18,
     "metadata": {},
     "output_type": "execute_result"
    }
   ],
   "source": [
    "#Since we performed an inner join ipl_d table so that man rows are joined with each match id of the ipl matches dataframe\n",
    "#and hence giving us match by match all balls details\n",
    "joined.shape[0],ipl_d.shape[0]\n"
   ]
  },
  {
   "cell_type": "code",
   "execution_count": null,
   "id": "c1b64508",
   "metadata": {},
   "outputs": [],
   "source": [
    "#Lets do some preprocessing and cleaning in ipl_m dataset\n",
    "#1.We can see that over the years team has changed their names but we should treat that as one team as there are no teamid in our dataser"
   ]
  },
  {
   "cell_type": "markdown",
   "id": "73cd4981",
   "metadata": {},
   "source": [
    "# Getting frequency of most man of the match awards"
   ]
  },
  {
   "cell_type": "code",
   "execution_count": 31,
   "id": "5117a309",
   "metadata": {},
   "outputs": [
    {
     "data": {
      "text/plain": [
       "AB de Villiers    25\n",
       "CH Gayle          22\n",
       "DA Warner         18\n",
       "RG Sharma         18\n",
       "MS Dhoni          17\n",
       "YK Pathan         16\n",
       "SR Watson         16\n",
       "KA Pollard        14\n",
       "SK Raina          14\n",
       "V Kohli           14\n",
       "Name: Player_of_Match, dtype: int64"
      ]
     },
     "execution_count": 31,
     "metadata": {},
     "output_type": "execute_result"
    }
   ],
   "source": [
    "ipl_m['Player_of_Match'].value_counts()[0:10]"
   ]
  },
  {
   "cell_type": "code",
   "execution_count": 37,
   "id": "a5717e7c",
   "metadata": {},
   "outputs": [
    {
     "data": {
      "image/png": "[encoded data removed]",
      "text/plain": [
       "<Figure size 576x360 with 1 Axes>"
      ]
     },
     "metadata": {
      "needs_background": "light"
     },
     "output_type": "display_data"
    }
   ],
   "source": [
    "plt.figure(figsize=(8,5))\n",
    "plt.barh(list(ipl_m['Player_of_Match'].value_counts()[0:10].keys()),list(ipl_m['Player_of_Match'].value_counts()[0:10]),color='g')\n",
    "plt.title('Top 10 man of the matches in Ipl history')\n",
    "plt.xlabel('No of time MOM received')\n",
    "plt.ylabel('Players Name')\n",
    "plt.show()"
   ]
  },
  {
   "cell_type": "code",
   "execution_count": null,
   "id": "06bbbde1",
   "metadata": {},
   "outputs": [],
   "source": []
  },
  {
   "cell_type": "markdown",
   "id": "01ef9e8f",
   "metadata": {},
   "source": [
    "# CONCLUSIONS"
   ]
  },
  {
   "cell_type": "markdown",
   "id": "67a8fcc6",
   "metadata": {},
   "source": [
    "# 1.Mainly batsman and international batsman gets maximum MOM\n"
   ]
  },
  {
   "cell_type": "markdown",
   "id": "31f850ba",
   "metadata": {},
   "source": [
    "# 2.Bowlers  are less likely to get man of the matches"
   ]
  },
  {
   "cell_type": "markdown",
   "id": "f20d2d8a",
   "metadata": {},
   "source": [
    "# Lets see what is the percentage of runs team win while batting first"
   ]
  },
  {
   "cell_type": "code",
   "execution_count": 49,
   "id": "1720878b",
   "metadata": {},
   "outputs": [
    {
     "data": {
      "image/png": "[encoded data removed]",
      "text/plain": [
       "<Figure size 504x504 with 1 Axes>"
      ]
     },
     "metadata": {
      "needs_background": "light"
     },
     "output_type": "display_data"
    }
   ],
   "source": [
    "batting_first= ipl_m[ipl_m['WonBy']=='Runs']\n",
    "plt.figure(figsize=(7,7))\n",
    "plt.hist(batting_first['Margin'])\n",
    "plt.title('Distribution of runs')\n",
    "plt.xlabel('Runs')\n",
    "plt.ylabel('No of times')\n",
    "plt.show()"
   ]
  },
  {
   "cell_type": "markdown",
   "id": "90f9ac30",
   "metadata": {},
   "source": [
    "# Conclusions:"
   ]
  },
  {
   "cell_type": "markdown",
   "id": "d2912ea6",
   "metadata": {},
   "source": [
    "# 1.Most team wins by only 1 to 30 runs 50 percent of the time"
   ]
  },
  {
   "cell_type": "markdown",
   "id": "ca5a4ecb",
   "metadata": {},
   "source": [
    "# Lets see which are the top 3 teams that wins batting first most of the times"
   ]
  },
  {
   "cell_type": "code",
   "execution_count": null,
   "id": "210d6196",
   "metadata": {},
   "outputs": [],
   "source": []
  },
  {
   "cell_type": "code",
   "execution_count": null,
   "id": "761b7068",
   "metadata": {},
   "outputs": [],
   "source": []
  },
  {
   "cell_type": "code",
   "execution_count": 52,
   "id": "76d1c543",
   "metadata": {},
   "outputs": [
    {
     "data": {
      "image/png": "[encoded data removed]",
      "text/plain": [
       "<Figure size 504x504 with 1 Axes>"
      ]
     },
     "metadata": {
      "needs_background": "light"
     },
     "output_type": "display_data"
    }
   ],
   "source": [
    "plt.figure(figsize=(7,7))\n",
    "plt.bar(list(batting_first['WinningTeam'].value_counts()[0:3].keys()),list(batting_first['WinningTeam'].value_counts()[0:3]),color=[\"blue\",\"yellow\",'orange'])\n",
    "plt.show()"
   ]
  },
  {
   "cell_type": "markdown",
   "id": "004d5d9b",
   "metadata": {},
   "source": [
    "# Conclusions:"
   ]
  },
  {
   "cell_type": "markdown",
   "id": "022a0510",
   "metadata": {},
   "source": [
    "# 1.Mumbai Indians wins most of the time batting first because there bowling line up is good\n"
   ]
  },
  {
   "cell_type": "markdown",
   "id": "556f40d8",
   "metadata": {},
   "source": [
    "# 2.CSK plays most of there matches at home in a turning wicket so it favours bowling and hence difficult to chase\n"
   ]
  },
  {
   "cell_type": "markdown",
   "id": "c7a60755",
   "metadata": {},
   "source": [
    "# 3.Sunrisers is a team known for bowling so they defend scores"
   ]
  },
  {
   "cell_type": "markdown",
   "id": "f6d009c1",
   "metadata": {},
   "source": [
    "# Lets see which teams are good at chasing"
   ]
  },
  {
   "cell_type": "code",
   "execution_count": 58,
   "id": "7890eb94",
   "metadata": {},
   "outputs": [
    {
     "data": {
      "image/png": "[encoded data removed]",
      "text/plain": [
       "<Figure size 504x504 with 1 Axes>"
      ]
     },
     "metadata": {
      "needs_background": "light"
     },
     "output_type": "display_data"
    }
   ],
   "source": [
    "batting_second= ipl_m[ipl_m['WonBy']=='Wickets']\n",
    "plt.figure(figsize=(7,7))\n",
    "plt.bar(list(batting_second['WinningTeam'].value_counts()[0:3].keys()),list(batting_second['WinningTeam'].value_counts()[0:3]),color=[\"purple\",\"blue\",'blue'])\n",
    "plt.show()\n"
   ]
  },
  {
   "cell_type": "markdown",
   "id": "96c6887b",
   "metadata": {},
   "source": [
    "# Conclusions:"
   ]
  },
  {
   "cell_type": "markdown",
   "id": "5f2457b1",
   "metadata": {},
   "source": [
    "# 1.Kolkata has won more chasing as most of there matches are at home which is a small ground ,same for MI and Delhi"
   ]
  },
  {
   "cell_type": "markdown",
   "id": "24920aa5",
   "metadata": {},
   "source": [
    "# Toss won by each team"
   ]
  },
  {
   "cell_type": "code",
   "execution_count": 62,
   "id": "d128e179",
   "metadata": {},
   "outputs": [
    {
     "data": {
      "image/png": "[encoded data removed]",
      "text/plain": [
       "<Figure size 432x288 with 1 Axes>"
      ]
     },
     "metadata": {
      "needs_background": "light"
     },
     "output_type": "display_data"
    }
   ],
   "source": [
    "toss=ipl_m['TossWinner'].value_counts()\n",
    "ax=plt.axes()\n",
    "ax.set(facecolor='grey')\n",
    "sns.set(rc={'figure.figsize':(15,10)},style='darkgrid')\n",
    "ax.set_title('No of toss won by each team',fontsize=15,fontweight=\"bold\")\n",
    "sns.barplot(y=toss.index,x=toss,orient='h',saturation=1)\n",
    "plt.xlabel('# of toss won')\n",
    "plt.ylabel('Teams')\n",
    "plt.show()"
   ]
  },
  {
   "cell_type": "code",
   "execution_count": 27,
   "id": "1ba587de",
   "metadata": {},
   "outputs": [
    {
     "data": {
      "text/plain": [
       "Index(['ID', 'innings', 'overs', 'ballnumber', 'batter', 'bowler',\n",
       "       'non-striker', 'batsman_run', 'extras_run', 'total_run', 'non_boundary',\n",
       "       'isWicketDelivery', 'BattingTeam'],\n",
       "      dtype='object')"
      ]
     },
     "execution_count": 27,
     "metadata": {},
     "output_type": "execute_result"
    }
   ],
   "source": [
    "#Toss decision across different Season's"
   ]
  },
  {
   "cell_type": "code",
   "execution_count": 65,
   "id": "8c57db77",
   "metadata": {},
   "outputs": [
    {
     "data": {
      "image/png": "[encoded data removed]",
      "text/plain": [
       "<Figure size 1152x576 with 1 Axes>"
      ]
     },
     "metadata": {},
     "output_type": "display_data"
    }
   ],
   "source": [
    "plt.figure(figsize=(16,8))\n",
    "sns.countplot(x=ipl_m['Season'],hue=ipl_m['TossDecision'],palette='dark')\n",
    "plt.title('Toss Decision over the season',fontsize='20',fontweight='bold',color='maroon')\n",
    "plt.xticks(fontsize='15',fontweight='bold',color='navy')\n",
    "plt.yticks(fontsize='15',fontweight='bold',color='navy')\n",
    "plt.show()"
   ]
  },
  {
   "cell_type": "markdown",
   "id": "4c45adf1",
   "metadata": {},
   "source": [
    "# Conclusions"
   ]
  },
  {
   "cell_type": "markdown",
   "id": "dc919a1b",
   "metadata": {},
   "source": [
    "# 1.Over the years teams decides to field first after winning the toss"
   ]
  },
  {
   "cell_type": "code",
   "execution_count": null,
   "id": "afa6d6a8",
   "metadata": {},
   "outputs": [],
   "source": []
  },
  {
   "cell_type": "code",
   "execution_count": 28,
   "id": "a40da12a",
   "metadata": {},
   "outputs": [
    {
     "data": {
      "text/plain": [
       "Index(['ID', 'City', 'Date', 'Season', 'MatchNumber', 'Team1', 'Team2',\n",
       "       'Venue', 'TossWinner', 'TossDecision', 'SuperOver', 'WinningTeam',\n",
       "       'WonBy', 'Margin', 'method', 'Player_of_Match', 'Team1Players',\n",
       "       'Team2Players', 'Umpire1', 'Umpire2'],\n",
       "      dtype='object')"
      ]
     },
     "execution_count": 28,
     "metadata": {},
     "output_type": "execute_result"
    }
   ],
   "source": [
    "ipl_m.columns"
   ]
  },
  {
   "cell_type": "code",
   "execution_count": 40,
   "id": "5c5a4902",
   "metadata": {},
   "outputs": [
    {
     "data": {
      "text/html": [
       "<div>\n",
       "<style scoped>\n",
       "    .dataframe tbody tr th:only-of-type {\n",
       "        vertical-align: middle;\n",
       "    }\n",
       "\n",
       "    .dataframe tbody tr th {\n",
       "        vertical-align: top;\n",
       "    }\n",
       "\n",
       "    .dataframe thead th {\n",
       "        text-align: right;\n",
       "    }\n",
       "</style>\n",
       "<table border=\"1\" class=\"dataframe\">\n",
       "  <thead>\n",
       "    <tr style=\"text-align: right;\">\n",
       "      <th></th>\n",
       "      <th>ID</th>\n",
       "      <th>City</th>\n",
       "      <th>Date</th>\n",
       "      <th>Season</th>\n",
       "      <th>MatchNumber</th>\n",
       "      <th>Team1</th>\n",
       "      <th>Team2</th>\n",
       "      <th>Venue</th>\n",
       "      <th>TossWinner</th>\n",
       "      <th>TossDecision</th>\n",
       "      <th>SuperOver</th>\n",
       "      <th>WinningTeam</th>\n",
       "      <th>WonBy</th>\n",
       "      <th>Margin</th>\n",
       "      <th>method</th>\n",
       "      <th>Player_of_Match</th>\n",
       "      <th>Team1Players</th>\n",
       "      <th>Team2Players</th>\n",
       "      <th>Umpire1</th>\n",
       "      <th>Umpire2</th>\n",
       "    </tr>\n",
       "  </thead>\n",
       "  <tbody>\n",
       "    <tr>\n",
       "      <th>941</th>\n",
       "      <td>335990</td>\n",
       "      <td>Hyderabad</td>\n",
       "      <td>2008-04-24</td>\n",
       "      <td>2007/08</td>\n",
       "      <td>9</td>\n",
       "      <td>Sunrisers Hyderabad</td>\n",
       "      <td>Rajasthan Royals</td>\n",
       "      <td>Rajiv Gandhi International Stadium, Uppal</td>\n",
       "      <td>Rajasthan Royals</td>\n",
       "      <td>field</td>\n",
       "      <td>N</td>\n",
       "      <td>Rajasthan Royals</td>\n",
       "      <td>Wickets</td>\n",
       "      <td>3.0</td>\n",
       "      <td>NaN</td>\n",
       "      <td>YK Pathan</td>\n",
       "      <td>['AC Gilchrist', 'VVS Laxman', 'Shahid Afridi'...</td>\n",
       "      <td>['Kamran Akmal', 'GC Smith', 'YK Pathan', 'SR ...</td>\n",
       "      <td>Asad Rauf</td>\n",
       "      <td>MR Benson</td>\n",
       "    </tr>\n",
       "    <tr>\n",
       "      <th>196</th>\n",
       "      <td>1181766</td>\n",
       "      <td>Visakhapatnam</td>\n",
       "      <td>2019-05-08</td>\n",
       "      <td>2019</td>\n",
       "      <td>Eliminator</td>\n",
       "      <td>Sunrisers Hyderabad</td>\n",
       "      <td>Delhi Capitals</td>\n",
       "      <td>Dr. Y.S. Rajasekhara Reddy ACA-VDCA Cricket St...</td>\n",
       "      <td>Delhi Capitals</td>\n",
       "      <td>field</td>\n",
       "      <td>N</td>\n",
       "      <td>Delhi Capitals</td>\n",
       "      <td>Wickets</td>\n",
       "      <td>2.0</td>\n",
       "      <td>NaN</td>\n",
       "      <td>RR Pant</td>\n",
       "      <td>['WP Saha', 'MJ Guptill', 'MK Pandey', 'KS Wil...</td>\n",
       "      <td>['PP Shaw', 'S Dhawan', 'SS Iyer', 'RR Pant', ...</td>\n",
       "      <td>BNJ Oxenford</td>\n",
       "      <td>S Ravi</td>\n",
       "    </tr>\n",
       "    <tr>\n",
       "      <th>425</th>\n",
       "      <td>980915</td>\n",
       "      <td>Hyderabad</td>\n",
       "      <td>2016-04-16</td>\n",
       "      <td>2016</td>\n",
       "      <td>8</td>\n",
       "      <td>Sunrisers Hyderabad</td>\n",
       "      <td>Kolkata Knight Riders</td>\n",
       "      <td>Rajiv Gandhi International Stadium, Uppal</td>\n",
       "      <td>Sunrisers Hyderabad</td>\n",
       "      <td>bat</td>\n",
       "      <td>N</td>\n",
       "      <td>Kolkata Knight Riders</td>\n",
       "      <td>Wickets</td>\n",
       "      <td>8.0</td>\n",
       "      <td>NaN</td>\n",
       "      <td>G Gambhir</td>\n",
       "      <td>['DA Warner', 'S Dhawan', 'MC Henriques', 'EJG...</td>\n",
       "      <td>['RV Uthappa', 'G Gambhir', 'AD Russell', 'MK ...</td>\n",
       "      <td>AK Chaudhary</td>\n",
       "      <td>CK Nandan</td>\n",
       "    </tr>\n",
       "    <tr>\n",
       "      <th>606</th>\n",
       "      <td>598018</td>\n",
       "      <td>Pune</td>\n",
       "      <td>2013-04-17</td>\n",
       "      <td>2013</td>\n",
       "      <td>22</td>\n",
       "      <td>Rising Pune Supergiants</td>\n",
       "      <td>Sunrisers Hyderabad</td>\n",
       "      <td>Maharashtra Cricket Association Stadium</td>\n",
       "      <td>Rising Pune Supergiants</td>\n",
       "      <td>field</td>\n",
       "      <td>N</td>\n",
       "      <td>Sunrisers Hyderabad</td>\n",
       "      <td>Runs</td>\n",
       "      <td>11.0</td>\n",
       "      <td>NaN</td>\n",
       "      <td>A Mishra</td>\n",
       "      <td>['RV Uthappa', 'AJ Finch', 'TL Suman', 'SPD Sm...</td>\n",
       "      <td>['PA Patel', 'Q de Kock', 'GH Vihari', 'CL Whi...</td>\n",
       "      <td>Asad Rauf</td>\n",
       "      <td>AK Chaudhary</td>\n",
       "    </tr>\n",
       "    <tr>\n",
       "      <th>277</th>\n",
       "      <td>1136597</td>\n",
       "      <td>Mumbai</td>\n",
       "      <td>2018-05-06</td>\n",
       "      <td>2018</td>\n",
       "      <td>37</td>\n",
       "      <td>Mumbai Indians</td>\n",
       "      <td>Kolkata Knight Riders</td>\n",
       "      <td>Wankhede Stadium</td>\n",
       "      <td>Kolkata Knight Riders</td>\n",
       "      <td>field</td>\n",
       "      <td>N</td>\n",
       "      <td>Mumbai Indians</td>\n",
       "      <td>Runs</td>\n",
       "      <td>13.0</td>\n",
       "      <td>NaN</td>\n",
       "      <td>HH Pandya</td>\n",
       "      <td>['SA Yadav', 'E Lewis', 'RG Sharma', 'HH Pandy...</td>\n",
       "      <td>['CA Lynn', 'Shubman Gill', 'RV Uthappa', 'N R...</td>\n",
       "      <td>A Deshmukh</td>\n",
       "      <td>HDPK Dharmasena</td>\n",
       "    </tr>\n",
       "  </tbody>\n",
       "</table>\n",
       "</div>"
      ],
      "text/plain": [
       "          ID           City        Date   Season MatchNumber  \\\n",
       "941   335990      Hyderabad  2008-04-24  2007/08           9   \n",
       "196  1181766  Visakhapatnam  2019-05-08     2019  Eliminator   \n",
       "425   980915      Hyderabad  2016-04-16     2016           8   \n",
       "606   598018           Pune  2013-04-17     2013          22   \n",
       "277  1136597         Mumbai  2018-05-06     2018          37   \n",
       "\n",
       "                       Team1                  Team2  \\\n",
       "941      Sunrisers Hyderabad       Rajasthan Royals   \n",
       "196      Sunrisers Hyderabad         Delhi Capitals   \n",
       "425      Sunrisers Hyderabad  Kolkata Knight Riders   \n",
       "606  Rising Pune Supergiants    Sunrisers Hyderabad   \n",
       "277           Mumbai Indians  Kolkata Knight Riders   \n",
       "\n",
       "                                                 Venue  \\\n",
       "941          Rajiv Gandhi International Stadium, Uppal   \n",
       "196  Dr. Y.S. Rajasekhara Reddy ACA-VDCA Cricket St...   \n",
       "425          Rajiv Gandhi International Stadium, Uppal   \n",
       "606            Maharashtra Cricket Association Stadium   \n",
       "277                                   Wankhede Stadium   \n",
       "\n",
       "                  TossWinner TossDecision SuperOver            WinningTeam  \\\n",
       "941         Rajasthan Royals        field         N       Rajasthan Royals   \n",
       "196           Delhi Capitals        field         N         Delhi Capitals   \n",
       "425      Sunrisers Hyderabad          bat         N  Kolkata Knight Riders   \n",
       "606  Rising Pune Supergiants        field         N    Sunrisers Hyderabad   \n",
       "277    Kolkata Knight Riders        field         N         Mumbai Indians   \n",
       "\n",
       "       WonBy  Margin method Player_of_Match  \\\n",
       "941  Wickets     3.0    NaN       YK Pathan   \n",
       "196  Wickets     2.0    NaN         RR Pant   \n",
       "425  Wickets     8.0    NaN       G Gambhir   \n",
       "606     Runs    11.0    NaN        A Mishra   \n",
       "277     Runs    13.0    NaN       HH Pandya   \n",
       "\n",
       "                                          Team1Players  \\\n",
       "941  ['AC Gilchrist', 'VVS Laxman', 'Shahid Afridi'...   \n",
       "196  ['WP Saha', 'MJ Guptill', 'MK Pandey', 'KS Wil...   \n",
       "425  ['DA Warner', 'S Dhawan', 'MC Henriques', 'EJG...   \n",
       "606  ['RV Uthappa', 'AJ Finch', 'TL Suman', 'SPD Sm...   \n",
       "277  ['SA Yadav', 'E Lewis', 'RG Sharma', 'HH Pandy...   \n",
       "\n",
       "                                          Team2Players       Umpire1  \\\n",
       "941  ['Kamran Akmal', 'GC Smith', 'YK Pathan', 'SR ...     Asad Rauf   \n",
       "196  ['PP Shaw', 'S Dhawan', 'SS Iyer', 'RR Pant', ...  BNJ Oxenford   \n",
       "425  ['RV Uthappa', 'G Gambhir', 'AD Russell', 'MK ...  AK Chaudhary   \n",
       "606  ['PA Patel', 'Q de Kock', 'GH Vihari', 'CL Whi...     Asad Rauf   \n",
       "277  ['CA Lynn', 'Shubman Gill', 'RV Uthappa', 'N R...    A Deshmukh   \n",
       "\n",
       "             Umpire2  \n",
       "941        MR Benson  \n",
       "196           S Ravi  \n",
       "425        CK Nandan  \n",
       "606     AK Chaudhary  \n",
       "277  HDPK Dharmasena  "
      ]
     },
     "execution_count": 40,
     "metadata": {},
     "output_type": "execute_result"
    }
   ],
   "source": [
    "ipl_m.sample(5)"
   ]
  },
  {
   "cell_type": "markdown",
   "id": "083a0618",
   "metadata": {},
   "source": [
    "# Top Stadium's as per sixes to match ratio "
   ]
  },
  {
   "cell_type": "code",
   "execution_count": 19,
   "id": "8388b375",
   "metadata": {},
   "outputs": [],
   "source": [
    "#Lets first filter the balls in which only sixes have been hit\n",
    "six_df=joined[joined['batsman_run']==6]\n",
    "\n",
    "#Here we got all the balls that have been hit for a six in the entire ipl\n",
    "\n",
    "\n"
   ]
  },
  {
   "cell_type": "code",
   "execution_count": 26,
   "id": "ffff840b",
   "metadata": {},
   "outputs": [
    {
     "data": {
      "text/plain": [
       "Venue\n",
       "Wankhede Stadium                                        900\n",
       "M Chinnaswamy Stadium                                   861\n",
       "Eden Gardens                                            861\n",
       "Feroz Shah Kotla                                        636\n",
       "MA Chidambaram Stadium, Chepauk                         507\n",
       "Dubai International Cricket Stadium                     495\n",
       "Rajiv Gandhi International Stadium, Uppal               492\n",
       "Wankhede Stadium, Mumbai                                443\n",
       "Sharjah Cricket Stadium                                 394\n",
       "Sawai Mansingh Stadium                                  363\n",
       "Punjab Cricket Association Stadium, Mohali              307\n",
       "Dr DY Patil Sports Academy, Mumbai                      285\n",
       "Maharashtra Cricket Association Stadium                 264\n",
       "M.Chinnaswamy Stadium                                   256\n",
       "Sheikh Zayed Stadium                                    255\n",
       "Brabourne Stadium, Mumbai                               228\n",
       "Maharashtra Cricket Association Stadium, Pune           200\n",
       "Arun Jaitley Stadium                                    198\n",
       "Dr DY Patil Sports Academy                              173\n",
       "Rajiv Gandhi International Stadium                      168\n",
       "Holkar Cricket Stadium                                  155\n",
       "Dr. Y.S. Rajasekhara Reddy ACA-VDCA Cricket Stadium     154\n",
       "Subrata Roy Sahara Stadium                              138\n",
       "Punjab Cricket Association IS Bindra Stadium            132\n",
       "Sardar Patel Stadium, Motera                            130\n",
       "Kingsmead                                               130\n",
       "SuperSport Park                                         120\n",
       "Himachal Pradesh Cricket Association Stadium            108\n",
       "Brabourne Stadium                                       105\n",
       "Saurashtra Cricket Association Stadium                  104\n",
       "MA Chidambaram Stadium                                  102\n",
       "MA Chidambaram Stadium, Chepauk, Chennai                101\n",
       "Narendra Modi Stadium, Ahmedabad                         90\n",
       "Punjab Cricket Association IS Bindra Stadium, Mohali     87\n",
       "JSCA International Stadium Complex                       76\n",
       "Zayed Cricket Stadium, Abu Dhabi                         73\n",
       "Arun Jaitley Stadium, Delhi                              68\n",
       "Barabati Stadium                                         68\n",
       "New Wanderers Stadium                                    64\n",
       "Newlands                                                 63\n",
       "St George's Park                                         62\n",
       "Shaheed Veer Narayan Singh International Stadium         44\n",
       "Nehru Stadium                                            39\n",
       "Green Park                                               36\n",
       "Eden Gardens, Kolkata                                    36\n",
       "De Beers Diamond Oval                                    34\n",
       "Buffalo Park                                             27\n",
       "Vidarbha Cricket Association Stadium, Jamtha             26\n",
       "OUTsurance Oval                                           8\n",
       "Name: Venue, dtype: int64"
      ]
     },
     "execution_count": 26,
     "metadata": {},
     "output_type": "execute_result"
    }
   ],
   "source": [
    "\n",
    "#Now we will find the sixes hit in every stadium as well as matches should be above 20\n",
    "six_df.groupby('Venue')['Venue'].count().sort_values(ascending=False)"
   ]
  },
  {
   "cell_type": "markdown",
   "id": "bc6a9eb8",
   "metadata": {},
   "source": [
    "#  the bar chart of top 5 teams who have played maximum number of matches in the IPL."
   ]
  },
  {
   "cell_type": "code",
   "execution_count": 12,
   "id": "45d41f25",
   "metadata": {},
   "outputs": [
    {
     "data": {
      "text/plain": [
       "<AxesSubplot:>"
      ]
     },
     "execution_count": 12,
     "metadata": {},
     "output_type": "execute_result"
    },
    {
     "data": {
      "image/png": "[encoded data removed]",
      "text/plain": [
       "<Figure size 432x288 with 1 Axes>"
      ]
     },
     "metadata": {
      "needs_background": "light"
     },
     "output_type": "display_data"
    }
   ],
   "source": [
    "t1=ipl_m['Team1'].value_counts()\n",
    "t2=ipl_m['Team2'].value_counts()\n",
    "#Since both df t1 and t2 contains all the teams so we can add them by index\n",
    "t3=t1+t2\n",
    "t3.sort_values(ascending=False).head(5).plot(kind='bar')"
   ]
  },
  {
   "cell_type": "markdown",
   "id": "fef6417d",
   "metadata": {},
   "source": [
    "# Most man of the match awards of each individual player against a particular team"
   ]
  },
  {
   "cell_type": "code",
   "execution_count": 13,
   "id": "67edb7bf",
   "metadata": {},
   "outputs": [
    {
     "name": "stdout",
     "output_type": "stream",
     "text": [
      "{'Rajasthan Royals': AB de Villiers    4\n",
      "Name: Player_of_Match, dtype: int64, 'Royal Challengers Bangalore': Sandeep Sharma    4\n",
      "Name: Player_of_Match, dtype: int64, 'Sunrisers Hyderabad': YK Pathan    7\n",
      "Name: Player_of_Match, dtype: int64, 'Delhi Capitals': AM Rahane    4\n",
      "Name: Player_of_Match, dtype: int64, 'Chennai Super Kings': KA Pollard    4\n",
      "Name: Player_of_Match, dtype: int64, 'Gujarat Titans': V Kohli    1\n",
      "Name: Player_of_Match, dtype: int64, 'Lucknow Super Giants': RM Patidar    1\n",
      "Name: Player_of_Match, dtype: int64, 'Kolkata Knight Riders': CH Gayle    5\n",
      "Name: Player_of_Match, dtype: int64, 'Punjab Kings': UT Yadav    6\n",
      "Name: Player_of_Match, dtype: int64, 'Mumbai Indians': SPD Smith    4\n",
      "Name: Player_of_Match, dtype: int64, 'Rising Pune Supergiants': A Mishra    3\n",
      "Name: Player_of_Match, dtype: int64, 'Gujarat Lions': RR Pant    2\n",
      "Name: Player_of_Match, dtype: int64, 'Kochi Tuskers Kerala': WP Saha    1\n",
      "Name: Player_of_Match, dtype: int64}\n"
     ]
    }
   ],
   "source": [
    "l=['Rajasthan Royals', 'Royal Challengers Bangalore',\n",
    "       'Sunrisers Hyderabad', 'Delhi Capitals', 'Chennai Super Kings',\n",
    "       'Gujarat Titans', 'Lucknow Super Giants', 'Kolkata Knight Riders',\n",
    "       'Punjab Kings', 'Mumbai Indians', 'Rising Pune Supergiants',\n",
    "       'Gujarat Lions', 'Kochi Tuskers Kerala']\n",
    "dict1={}\n",
    "for i in l:\n",
    "    mask1=ipl_m['Team1']==i #As we have two teams so we have to check from both the columns\n",
    "    mask2=ipl_m['Team2']==i\n",
    "    mask3=mask1 | mask2 #Here we want all those rows in which the particular team has played\n",
    "    mum_match=ipl_m[mask3] #since the above row return boolean we filter again to get the particlular rows\n",
    "    mum_lost_match=mum_match[mum_match['WinningTeam']!=i]#So now if we want to find the man of the match against the team that w\n",
    "    #we want we have to find its losing matches as mom is given to only winning team\n",
    "    player=mum_lost_match['Player_of_Match'].value_counts().sort_values(ascending=False).head(1)#from the player of the match \n",
    "    #column we can now count the mom of each player against that time and sort from top and fetch the top player\n",
    "    dict1[i]=player\n",
    "print(dict1)\n",
    "    \n",
    "    "
   ]
  },
  {
   "cell_type": "markdown",
   "id": "06db0fab",
   "metadata": {},
   "source": [
    "# Win records vs each other"
   ]
  },
  {
   "cell_type": "code",
   "execution_count": null,
   "id": "2e043965",
   "metadata": {},
   "outputs": [],
   "source": [
    "#Team1 vs Team2 Dashbord function which will take two string(name of two teams) as input and\n",
    "#Show win Loss record between them and player getting most player of the match award in matches between these two teams.\n",
    "\n",
    "#Eg: team1_vs_team2('Kolkata Knight Riders','Chennai Super Kings')"
   ]
  },
  {
   "cell_type": "code",
   "execution_count": 66,
   "id": "a4a99552",
   "metadata": {},
   "outputs": [],
   "source": [
    "def team1vsteam2(t1,t2):\n",
    "    m1=(ipl_m['Team1']==t1) |(ipl_m['Team2']==t1)#matches where team1 has played\n",
    "    m2=(ipl_m['Team1']==t2) |(ipl_m['Team2']==t2)#matches where team2 has played\n",
    "    df1=ipl_m[m1&m2] #This will return where both the team are against each other in Team1 and Team 2 column\n",
    "    print(df1['WinningTeam'].value_counts())\n"
   ]
  },
  {
   "cell_type": "markdown",
   "id": "857a511d",
   "metadata": {},
   "source": [
    "# Put in the team 1 and team 2 names in the below function and we will get our \n",
    "# results"
   ]
  },
  {
   "cell_type": "code",
   "execution_count": 67,
   "id": "f8dde5c0",
   "metadata": {},
   "outputs": [
    {
     "name": "stdout",
     "output_type": "stream",
     "text": [
      "Kolkata Knight Riders          16\n",
      "Royal Challengers Bangalore    14\n",
      "Name: WinningTeam, dtype: int64\n"
     ]
    }
   ],
   "source": [
    "team1vsteam2('Kolkata Knight Riders','Royal Challengers Bangalore')"
   ]
  },
  {
   "cell_type": "code",
   "execution_count": 18,
   "id": "247e600e",
   "metadata": {},
   "outputs": [
    {
     "data": {
      "text/html": [
       "<div>\n",
       "<style scoped>\n",
       "    .dataframe tbody tr th:only-of-type {\n",
       "        vertical-align: middle;\n",
       "    }\n",
       "\n",
       "    .dataframe tbody tr th {\n",
       "        vertical-align: top;\n",
       "    }\n",
       "\n",
       "    .dataframe thead th {\n",
       "        text-align: right;\n",
       "    }\n",
       "</style>\n",
       "<table border=\"1\" class=\"dataframe\">\n",
       "  <thead>\n",
       "    <tr style=\"text-align: right;\">\n",
       "      <th></th>\n",
       "      <th>ID</th>\n",
       "      <th>City</th>\n",
       "      <th>Date</th>\n",
       "      <th>Season</th>\n",
       "      <th>MatchNumber</th>\n",
       "      <th>Team1</th>\n",
       "      <th>Team2</th>\n",
       "      <th>Venue</th>\n",
       "      <th>TossWinner</th>\n",
       "      <th>TossDecision</th>\n",
       "      <th>SuperOver</th>\n",
       "      <th>WinningTeam</th>\n",
       "      <th>WonBy</th>\n",
       "      <th>Margin</th>\n",
       "      <th>method</th>\n",
       "      <th>Player_of_Match</th>\n",
       "      <th>Team1Players</th>\n",
       "      <th>Team2Players</th>\n",
       "      <th>Umpire1</th>\n",
       "      <th>Umpire2</th>\n",
       "    </tr>\n",
       "  </thead>\n",
       "  <tbody>\n",
       "    <tr>\n",
       "      <th>0</th>\n",
       "      <td>1312200</td>\n",
       "      <td>Ahmedabad</td>\n",
       "      <td>2022-05-29</td>\n",
       "      <td>2022</td>\n",
       "      <td>Final</td>\n",
       "      <td>Rajasthan Royals</td>\n",
       "      <td>Gujarat Titans</td>\n",
       "      <td>Narendra Modi Stadium, Ahmedabad</td>\n",
       "      <td>Rajasthan Royals</td>\n",
       "      <td>bat</td>\n",
       "      <td>N</td>\n",
       "      <td>Gujarat Titans</td>\n",
       "      <td>Wickets</td>\n",
       "      <td>7.0</td>\n",
       "      <td>NaN</td>\n",
       "      <td>HH Pandya</td>\n",
       "      <td>['YBK Jaiswal', 'JC Buttler', 'SV Samson', 'D ...</td>\n",
       "      <td>['WP Saha', 'Shubman Gill', 'MS Wade', 'HH Pan...</td>\n",
       "      <td>CB Gaffaney</td>\n",
       "      <td>Nitin Menon</td>\n",
       "    </tr>\n",
       "  </tbody>\n",
       "</table>\n",
       "</div>"
      ],
      "text/plain": [
       "        ID       City        Date Season MatchNumber             Team1  \\\n",
       "0  1312200  Ahmedabad  2022-05-29   2022       Final  Rajasthan Royals   \n",
       "\n",
       "            Team2                             Venue        TossWinner  \\\n",
       "0  Gujarat Titans  Narendra Modi Stadium, Ahmedabad  Rajasthan Royals   \n",
       "\n",
       "  TossDecision SuperOver     WinningTeam    WonBy  Margin method  \\\n",
       "0          bat         N  Gujarat Titans  Wickets     7.0    NaN   \n",
       "\n",
       "  Player_of_Match                                       Team1Players  \\\n",
       "0       HH Pandya  ['YBK Jaiswal', 'JC Buttler', 'SV Samson', 'D ...   \n",
       "\n",
       "                                        Team2Players      Umpire1      Umpire2  \n",
       "0  ['WP Saha', 'Shubman Gill', 'MS Wade', 'HH Pan...  CB Gaffaney  Nitin Menon  "
      ]
     },
     "execution_count": 18,
     "metadata": {},
     "output_type": "execute_result"
    }
   ],
   "source": [
    "ipl_m.head(1)"
   ]
  },
  {
   "cell_type": "markdown",
   "id": "90448dfc",
   "metadata": {},
   "source": [
    "# dataframe of each team in IPL with details like - Team Name, Matches Played, Win%, Home Win%, Away Win%. and also sorted dataframe on Win%"
   ]
  },
  {
   "cell_type": "code",
   "execution_count": 27,
   "id": "9442fed4",
   "metadata": {},
   "outputs": [
    {
     "data": {
      "text/html": [
       "<div>\n",
       "<style scoped>\n",
       "    .dataframe tbody tr th:only-of-type {\n",
       "        vertical-align: middle;\n",
       "    }\n",
       "\n",
       "    .dataframe tbody tr th {\n",
       "        vertical-align: top;\n",
       "    }\n",
       "\n",
       "    .dataframe thead th {\n",
       "        text-align: right;\n",
       "    }\n",
       "</style>\n",
       "<table border=\"1\" class=\"dataframe\">\n",
       "  <thead>\n",
       "    <tr style=\"text-align: right;\">\n",
       "      <th></th>\n",
       "      <th>Team</th>\n",
       "      <th>Matches_Played</th>\n",
       "      <th>wins</th>\n",
       "      <th>Win%</th>\n",
       "      <th>Home_wins</th>\n",
       "      <th>Home_win%</th>\n",
       "      <th>Away_win</th>\n",
       "      <th>Away_win%</th>\n",
       "    </tr>\n",
       "  </thead>\n",
       "  <tbody>\n",
       "    <tr>\n",
       "      <th>5</th>\n",
       "      <td>Gujarat Titans</td>\n",
       "      <td>16</td>\n",
       "      <td>12</td>\n",
       "      <td>75.0</td>\n",
       "      <td>15</td>\n",
       "      <td>125.0</td>\n",
       "      <td>13</td>\n",
       "      <td>108.333333</td>\n",
       "    </tr>\n",
       "    <tr>\n",
       "      <th>6</th>\n",
       "      <td>Lucknow Super Giants</td>\n",
       "      <td>15</td>\n",
       "      <td>9</td>\n",
       "      <td>60.0</td>\n",
       "      <td>10</td>\n",
       "      <td>111.111111</td>\n",
       "      <td>14</td>\n",
       "      <td>155.555556</td>\n",
       "    </tr>\n",
       "    <tr>\n",
       "      <th>4</th>\n",
       "      <td>Chennai Super Kings</td>\n",
       "      <td>208</td>\n",
       "      <td>121</td>\n",
       "      <td>58.173077</td>\n",
       "      <td>167</td>\n",
       "      <td>138.016529</td>\n",
       "      <td>162</td>\n",
       "      <td>133.884298</td>\n",
       "    </tr>\n",
       "    <tr>\n",
       "      <th>9</th>\n",
       "      <td>Mumbai Indians</td>\n",
       "      <td>231</td>\n",
       "      <td>131</td>\n",
       "      <td>56.709957</td>\n",
       "      <td>178</td>\n",
       "      <td>135.877863</td>\n",
       "      <td>184</td>\n",
       "      <td>140.458015</td>\n",
       "    </tr>\n",
       "    <tr>\n",
       "      <th>7</th>\n",
       "      <td>Kolkata Knight Riders</td>\n",
       "      <td>223</td>\n",
       "      <td>114</td>\n",
       "      <td>51.121076</td>\n",
       "      <td>163</td>\n",
       "      <td>142.982456</td>\n",
       "      <td>174</td>\n",
       "      <td>152.631579</td>\n",
       "    </tr>\n",
       "    <tr>\n",
       "      <th>0</th>\n",
       "      <td>Rajasthan Royals</td>\n",
       "      <td>192</td>\n",
       "      <td>96</td>\n",
       "      <td>50.0</td>\n",
       "      <td>136</td>\n",
       "      <td>141.666667</td>\n",
       "      <td>152</td>\n",
       "      <td>158.333333</td>\n",
       "    </tr>\n",
       "    <tr>\n",
       "      <th>1</th>\n",
       "      <td>Royal Challengers Bangalore</td>\n",
       "      <td>226</td>\n",
       "      <td>109</td>\n",
       "      <td>48.230088</td>\n",
       "      <td>174</td>\n",
       "      <td>159.633028</td>\n",
       "      <td>161</td>\n",
       "      <td>147.706422</td>\n",
       "    </tr>\n",
       "    <tr>\n",
       "      <th>8</th>\n",
       "      <td>Punjab Kings</td>\n",
       "      <td>218</td>\n",
       "      <td>101</td>\n",
       "      <td>46.330275</td>\n",
       "      <td>161</td>\n",
       "      <td>159.405941</td>\n",
       "      <td>158</td>\n",
       "      <td>156.435644</td>\n",
       "    </tr>\n",
       "    <tr>\n",
       "      <th>3</th>\n",
       "      <td>Delhi Capitals</td>\n",
       "      <td>224</td>\n",
       "      <td>103</td>\n",
       "      <td>45.982143</td>\n",
       "      <td>164</td>\n",
       "      <td>159.223301</td>\n",
       "      <td>163</td>\n",
       "      <td>158.252427</td>\n",
       "    </tr>\n",
       "    <tr>\n",
       "      <th>2</th>\n",
       "      <td>Sunrisers Hyderabad</td>\n",
       "      <td>227</td>\n",
       "      <td>104</td>\n",
       "      <td>45.814978</td>\n",
       "      <td>163</td>\n",
       "      <td>156.730769</td>\n",
       "      <td>168</td>\n",
       "      <td>161.538462</td>\n",
       "    </tr>\n",
       "    <tr>\n",
       "      <th>11</th>\n",
       "      <td>Gujarat Lions</td>\n",
       "      <td>30</td>\n",
       "      <td>13</td>\n",
       "      <td>43.333333</td>\n",
       "      <td>24</td>\n",
       "      <td>184.615385</td>\n",
       "      <td>19</td>\n",
       "      <td>146.153846</td>\n",
       "    </tr>\n",
       "    <tr>\n",
       "      <th>12</th>\n",
       "      <td>Kochi Tuskers Kerala</td>\n",
       "      <td>14</td>\n",
       "      <td>6</td>\n",
       "      <td>42.857143</td>\n",
       "      <td>10</td>\n",
       "      <td>166.666667</td>\n",
       "      <td>10</td>\n",
       "      <td>166.666667</td>\n",
       "    </tr>\n",
       "    <tr>\n",
       "      <th>10</th>\n",
       "      <td>Rising Pune Supergiants</td>\n",
       "      <td>76</td>\n",
       "      <td>27</td>\n",
       "      <td>35.526316</td>\n",
       "      <td>51</td>\n",
       "      <td>188.888889</td>\n",
       "      <td>52</td>\n",
       "      <td>192.592593</td>\n",
       "    </tr>\n",
       "  </tbody>\n",
       "</table>\n",
       "</div>"
      ],
      "text/plain": [
       "                           Team Matches_Played wins       Win% Home_wins  \\\n",
       "5                Gujarat Titans             16   12       75.0        15   \n",
       "6          Lucknow Super Giants             15    9       60.0        10   \n",
       "4           Chennai Super Kings            208  121  58.173077       167   \n",
       "9                Mumbai Indians            231  131  56.709957       178   \n",
       "7         Kolkata Knight Riders            223  114  51.121076       163   \n",
       "0              Rajasthan Royals            192   96       50.0       136   \n",
       "1   Royal Challengers Bangalore            226  109  48.230088       174   \n",
       "8                  Punjab Kings            218  101  46.330275       161   \n",
       "3                Delhi Capitals            224  103  45.982143       164   \n",
       "2           Sunrisers Hyderabad            227  104  45.814978       163   \n",
       "11                Gujarat Lions             30   13  43.333333        24   \n",
       "12         Kochi Tuskers Kerala             14    6  42.857143        10   \n",
       "10      Rising Pune Supergiants             76   27  35.526316        51   \n",
       "\n",
       "     Home_win% Away_win   Away_win%  \n",
       "5        125.0       13  108.333333  \n",
       "6   111.111111       14  155.555556  \n",
       "4   138.016529      162  133.884298  \n",
       "9   135.877863      184  140.458015  \n",
       "7   142.982456      174  152.631579  \n",
       "0   141.666667      152  158.333333  \n",
       "1   159.633028      161  147.706422  \n",
       "8   159.405941      158  156.435644  \n",
       "3   159.223301      163  158.252427  \n",
       "2   156.730769      168  161.538462  \n",
       "11  184.615385       19  146.153846  \n",
       "12  166.666667       10  166.666667  \n",
       "10  188.888889       52  192.592593  "
      ]
     },
     "execution_count": 27,
     "metadata": {},
     "output_type": "execute_result"
    }
   ],
   "source": [
    "teams=ipl_m['Team1'].unique() #Extracting all unique team names from ipl matches dataset\n",
    "data=[]\n",
    "new_df=pd.DataFrame()#creating a new df \n",
    "for team in teams:\n",
    "    played=ipl_m[(ipl_m['Team1']==team)|(ipl_m['Team2']==team)].shape[0]#whereever in team 1 and team 2 that particular team is \n",
    "    #present it will give us that rows and with shape[0] we get no of matches played\n",
    "    wins=ipl_m[ipl_m['WinningTeam']==team].shape[0]#Total no of winning of that team\n",
    "    home_win=ipl_m[(ipl_m['WinningTeam']==team)|(ipl_m['Team1']==team)].shape[0]#Here we get only home wins\n",
    "    homewin_percent=(home_win/wins)*100\n",
    "    away_win=ipl_m[(ipl_m['WinningTeam']==team)|(ipl_m['Team2']==team)].shape[0]#away wins \n",
    "    awaywin_percent=(away_win/wins)*100\n",
    "    data.append([team,played,wins,(wins/played)*100,home_win,homewin_percent,away_win,awaywin_percent]) # adding all the results to a list\n",
    "new_df[['Team','Matches_Played','wins','Win%','Home_wins','Home_win%','Away_win','Away_win%']]=data\n",
    "\n",
    "new_df.sort_values(\"Win%\",inplace=True,ascending=False) #Sorted on the basis of WIN percentage\n",
    "new_df\n",
    "    "
   ]
  },
  {
   "cell_type": "code",
   "execution_count": 28,
   "id": "8901df97",
   "metadata": {},
   "outputs": [
    {
     "data": {
      "text/html": [
       "<div>\n",
       "<style scoped>\n",
       "    .dataframe tbody tr th:only-of-type {\n",
       "        vertical-align: middle;\n",
       "    }\n",
       "\n",
       "    .dataframe tbody tr th {\n",
       "        vertical-align: top;\n",
       "    }\n",
       "\n",
       "    .dataframe thead th {\n",
       "        text-align: right;\n",
       "    }\n",
       "</style>\n",
       "<table border=\"1\" class=\"dataframe\">\n",
       "  <thead>\n",
       "    <tr style=\"text-align: right;\">\n",
       "      <th></th>\n",
       "      <th>ID</th>\n",
       "      <th>City</th>\n",
       "      <th>Date</th>\n",
       "      <th>Season</th>\n",
       "      <th>MatchNumber</th>\n",
       "      <th>Team1</th>\n",
       "      <th>Team2</th>\n",
       "      <th>Venue</th>\n",
       "      <th>TossWinner</th>\n",
       "      <th>TossDecision</th>\n",
       "      <th>SuperOver</th>\n",
       "      <th>WinningTeam</th>\n",
       "      <th>WonBy</th>\n",
       "      <th>Margin</th>\n",
       "      <th>method</th>\n",
       "      <th>Player_of_Match</th>\n",
       "      <th>Team1Players</th>\n",
       "      <th>Team2Players</th>\n",
       "      <th>Umpire1</th>\n",
       "      <th>Umpire2</th>\n",
       "    </tr>\n",
       "  </thead>\n",
       "  <tbody>\n",
       "    <tr>\n",
       "      <th>0</th>\n",
       "      <td>1312200</td>\n",
       "      <td>Ahmedabad</td>\n",
       "      <td>2022-05-29</td>\n",
       "      <td>2022</td>\n",
       "      <td>Final</td>\n",
       "      <td>Rajasthan Royals</td>\n",
       "      <td>Gujarat Titans</td>\n",
       "      <td>Narendra Modi Stadium, Ahmedabad</td>\n",
       "      <td>Rajasthan Royals</td>\n",
       "      <td>bat</td>\n",
       "      <td>N</td>\n",
       "      <td>Gujarat Titans</td>\n",
       "      <td>Wickets</td>\n",
       "      <td>7.0</td>\n",
       "      <td>NaN</td>\n",
       "      <td>HH Pandya</td>\n",
       "      <td>['YBK Jaiswal', 'JC Buttler', 'SV Samson', 'D ...</td>\n",
       "      <td>['WP Saha', 'Shubman Gill', 'MS Wade', 'HH Pan...</td>\n",
       "      <td>CB Gaffaney</td>\n",
       "      <td>Nitin Menon</td>\n",
       "    </tr>\n",
       "  </tbody>\n",
       "</table>\n",
       "</div>"
      ],
      "text/plain": [
       "        ID       City        Date Season MatchNumber             Team1  \\\n",
       "0  1312200  Ahmedabad  2022-05-29   2022       Final  Rajasthan Royals   \n",
       "\n",
       "            Team2                             Venue        TossWinner  \\\n",
       "0  Gujarat Titans  Narendra Modi Stadium, Ahmedabad  Rajasthan Royals   \n",
       "\n",
       "  TossDecision SuperOver     WinningTeam    WonBy  Margin method  \\\n",
       "0          bat         N  Gujarat Titans  Wickets     7.0    NaN   \n",
       "\n",
       "  Player_of_Match                                       Team1Players  \\\n",
       "0       HH Pandya  ['YBK Jaiswal', 'JC Buttler', 'SV Samson', 'D ...   \n",
       "\n",
       "                                        Team2Players      Umpire1      Umpire2  \n",
       "0  ['WP Saha', 'Shubman Gill', 'MS Wade', 'HH Pan...  CB Gaffaney  Nitin Menon  "
      ]
     },
     "execution_count": 28,
     "metadata": {},
     "output_type": "execute_result"
    }
   ],
   "source": [
    "ipl_m.head(1)"
   ]
  },
  {
   "cell_type": "code",
   "execution_count": 29,
   "id": "5f73be46",
   "metadata": {},
   "outputs": [
    {
     "data": {
      "text/plain": [
       "array(['Wickets', 'Runs', 'SuperOver', 'NoResults'], dtype=object)"
      ]
     },
     "execution_count": 29,
     "metadata": {},
     "output_type": "execute_result"
    }
   ],
   "source": [
    "ipl_m.WonBy.unique()"
   ]
  },
  {
   "cell_type": "markdown",
   "id": "f95d98e8",
   "metadata": {},
   "source": [
    "# VENUES which have been most affected by weather "
   ]
  },
  {
   "cell_type": "code",
   "execution_count": null,
   "id": "344b4263",
   "metadata": {},
   "outputs": [],
   "source": [
    "ipl_m.WonBy.unique() # Here we can see that in wonby column we have no result so we filter based on that .."
   ]
  },
  {
   "cell_type": "code",
   "execution_count": 33,
   "id": "4e7b8d50",
   "metadata": {},
   "outputs": [
    {
     "data": {
      "text/plain": [
       "M Chinnaswamy Stadium    2\n",
       "M.Chinnaswamy Stadium    1\n",
       "Feroz Shah Kotla         1\n",
       "Name: Venue, dtype: int64"
      ]
     },
     "execution_count": 33,
     "metadata": {},
     "output_type": "execute_result"
    }
   ],
   "source": [
    "ipl_m[ipl_m['WonBy']=='NoResults']['Venue'].value_counts()"
   ]
  },
  {
   "cell_type": "markdown",
   "id": "b8f09c9d",
   "metadata": {},
   "source": [
    "# #Players who have represented the finals most of the time.\n",
    "#Guess it before the answer comes (Captian cool may be or current captain)"
   ]
  },
  {
   "cell_type": "code",
   "execution_count": 34,
   "id": "8e905ada",
   "metadata": {},
   "outputs": [
    {
     "data": {
      "text/plain": [
       "array(['Final', 'Qualifier 2', 'Eliminator', 'Qualifier 1', '70', '69',\n",
       "       '68', '67', '66', '65', '64', '63', '62', '61', '60', '59', '58',\n",
       "       '57', '56', '55', '54', '53', '52', '51', '50', '49', '48', '47',\n",
       "       '46', '45', '44', '43', '42', '41', '40', '39', '38', '37', '36',\n",
       "       '35', '34', '33', '32', '31', '30', '29', '28', '27', '26', '25',\n",
       "       '24', '23', '22', '21', '20', '19', '18', '17', '16', '15', '14',\n",
       "       '13', '12', '11', '10', '9', '8', '7', '6', '5', '4', '3', '2',\n",
       "       '1', 'Qualifier', 'Elimination Final', '72', '71',\n",
       "       '3rd Place Play-Off', 'Semi Final'], dtype=object)"
      ]
     },
     "execution_count": 34,
     "metadata": {},
     "output_type": "execute_result"
    }
   ],
   "source": [
    "ipl_m['MatchNumber'].unique()"
   ]
  },
  {
   "cell_type": "code",
   "execution_count": 40,
   "id": "f0dc1386",
   "metadata": {},
   "outputs": [
    {
     "name": "stderr",
     "output_type": "stream",
     "text": [
      "C:\\Users\\HP\\AppData\\Local\\Temp\\ipykernel_14204\\1306702196.py:4: FutureWarning: The default dtype for empty Series will be 'object' instead of 'float64' in a future version. Specify a dtype explicitly to silence this warning.\n",
      "  players_series=pd.Series()\n",
      "C:\\Users\\HP\\AppData\\Local\\Temp\\ipykernel_14204\\1306702196.py:7: FutureWarning: The series.append method is deprecated and will be removed from pandas in a future version. Use pandas.concat instead.\n",
      "  players_series=players_series.append(x)\n",
      "C:\\Users\\HP\\AppData\\Local\\Temp\\ipykernel_14204\\1306702196.py:7: FutureWarning: The series.append method is deprecated and will be removed from pandas in a future version. Use pandas.concat instead.\n",
      "  players_series=players_series.append(x)\n",
      "C:\\Users\\HP\\AppData\\Local\\Temp\\ipykernel_14204\\1306702196.py:7: FutureWarning: The series.append method is deprecated and will be removed from pandas in a future version. Use pandas.concat instead.\n",
      "  players_series=players_series.append(x)\n",
      "C:\\Users\\HP\\AppData\\Local\\Temp\\ipykernel_14204\\1306702196.py:7: FutureWarning: The series.append method is deprecated and will be removed from pandas in a future version. Use pandas.concat instead.\n",
      "  players_series=players_series.append(x)\n",
      "C:\\Users\\HP\\AppData\\Local\\Temp\\ipykernel_14204\\1306702196.py:7: FutureWarning: The series.append method is deprecated and will be removed from pandas in a future version. Use pandas.concat instead.\n",
      "  players_series=players_series.append(x)\n",
      "C:\\Users\\HP\\AppData\\Local\\Temp\\ipykernel_14204\\1306702196.py:7: FutureWarning: The series.append method is deprecated and will be removed from pandas in a future version. Use pandas.concat instead.\n",
      "  players_series=players_series.append(x)\n",
      "C:\\Users\\HP\\AppData\\Local\\Temp\\ipykernel_14204\\1306702196.py:7: FutureWarning: The series.append method is deprecated and will be removed from pandas in a future version. Use pandas.concat instead.\n",
      "  players_series=players_series.append(x)\n",
      "C:\\Users\\HP\\AppData\\Local\\Temp\\ipykernel_14204\\1306702196.py:7: FutureWarning: The series.append method is deprecated and will be removed from pandas in a future version. Use pandas.concat instead.\n",
      "  players_series=players_series.append(x)\n",
      "C:\\Users\\HP\\AppData\\Local\\Temp\\ipykernel_14204\\1306702196.py:7: FutureWarning: The series.append method is deprecated and will be removed from pandas in a future version. Use pandas.concat instead.\n",
      "  players_series=players_series.append(x)\n",
      "C:\\Users\\HP\\AppData\\Local\\Temp\\ipykernel_14204\\1306702196.py:7: FutureWarning: The series.append method is deprecated and will be removed from pandas in a future version. Use pandas.concat instead.\n",
      "  players_series=players_series.append(x)\n",
      "C:\\Users\\HP\\AppData\\Local\\Temp\\ipykernel_14204\\1306702196.py:7: FutureWarning: The series.append method is deprecated and will be removed from pandas in a future version. Use pandas.concat instead.\n",
      "  players_series=players_series.append(x)\n",
      "C:\\Users\\HP\\AppData\\Local\\Temp\\ipykernel_14204\\1306702196.py:7: FutureWarning: The series.append method is deprecated and will be removed from pandas in a future version. Use pandas.concat instead.\n",
      "  players_series=players_series.append(x)\n",
      "C:\\Users\\HP\\AppData\\Local\\Temp\\ipykernel_14204\\1306702196.py:7: FutureWarning: The series.append method is deprecated and will be removed from pandas in a future version. Use pandas.concat instead.\n",
      "  players_series=players_series.append(x)\n",
      "C:\\Users\\HP\\AppData\\Local\\Temp\\ipykernel_14204\\1306702196.py:7: FutureWarning: The series.append method is deprecated and will be removed from pandas in a future version. Use pandas.concat instead.\n",
      "  players_series=players_series.append(x)\n",
      "C:\\Users\\HP\\AppData\\Local\\Temp\\ipykernel_14204\\1306702196.py:7: FutureWarning: The series.append method is deprecated and will be removed from pandas in a future version. Use pandas.concat instead.\n",
      "  players_series=players_series.append(x)\n",
      "C:\\Users\\HP\\AppData\\Local\\Temp\\ipykernel_14204\\1306702196.py:10: FutureWarning: The series.append method is deprecated and will be removed from pandas in a future version. Use pandas.concat instead.\n",
      "  players_series=players_series.append(x)\n",
      "C:\\Users\\HP\\AppData\\Local\\Temp\\ipykernel_14204\\1306702196.py:10: FutureWarning: The series.append method is deprecated and will be removed from pandas in a future version. Use pandas.concat instead.\n",
      "  players_series=players_series.append(x)\n",
      "C:\\Users\\HP\\AppData\\Local\\Temp\\ipykernel_14204\\1306702196.py:10: FutureWarning: The series.append method is deprecated and will be removed from pandas in a future version. Use pandas.concat instead.\n",
      "  players_series=players_series.append(x)\n",
      "C:\\Users\\HP\\AppData\\Local\\Temp\\ipykernel_14204\\1306702196.py:10: FutureWarning: The series.append method is deprecated and will be removed from pandas in a future version. Use pandas.concat instead.\n",
      "  players_series=players_series.append(x)\n",
      "C:\\Users\\HP\\AppData\\Local\\Temp\\ipykernel_14204\\1306702196.py:10: FutureWarning: The series.append method is deprecated and will be removed from pandas in a future version. Use pandas.concat instead.\n",
      "  players_series=players_series.append(x)\n",
      "C:\\Users\\HP\\AppData\\Local\\Temp\\ipykernel_14204\\1306702196.py:10: FutureWarning: The series.append method is deprecated and will be removed from pandas in a future version. Use pandas.concat instead.\n",
      "  players_series=players_series.append(x)\n",
      "C:\\Users\\HP\\AppData\\Local\\Temp\\ipykernel_14204\\1306702196.py:10: FutureWarning: The series.append method is deprecated and will be removed from pandas in a future version. Use pandas.concat instead.\n",
      "  players_series=players_series.append(x)\n",
      "C:\\Users\\HP\\AppData\\Local\\Temp\\ipykernel_14204\\1306702196.py:10: FutureWarning: The series.append method is deprecated and will be removed from pandas in a future version. Use pandas.concat instead.\n",
      "  players_series=players_series.append(x)\n",
      "C:\\Users\\HP\\AppData\\Local\\Temp\\ipykernel_14204\\1306702196.py:10: FutureWarning: The series.append method is deprecated and will be removed from pandas in a future version. Use pandas.concat instead.\n",
      "  players_series=players_series.append(x)\n",
      "C:\\Users\\HP\\AppData\\Local\\Temp\\ipykernel_14204\\1306702196.py:10: FutureWarning: The series.append method is deprecated and will be removed from pandas in a future version. Use pandas.concat instead.\n",
      "  players_series=players_series.append(x)\n",
      "C:\\Users\\HP\\AppData\\Local\\Temp\\ipykernel_14204\\1306702196.py:10: FutureWarning: The series.append method is deprecated and will be removed from pandas in a future version. Use pandas.concat instead.\n",
      "  players_series=players_series.append(x)\n",
      "C:\\Users\\HP\\AppData\\Local\\Temp\\ipykernel_14204\\1306702196.py:10: FutureWarning: The series.append method is deprecated and will be removed from pandas in a future version. Use pandas.concat instead.\n",
      "  players_series=players_series.append(x)\n",
      "C:\\Users\\HP\\AppData\\Local\\Temp\\ipykernel_14204\\1306702196.py:10: FutureWarning: The series.append method is deprecated and will be removed from pandas in a future version. Use pandas.concat instead.\n",
      "  players_series=players_series.append(x)\n",
      "C:\\Users\\HP\\AppData\\Local\\Temp\\ipykernel_14204\\1306702196.py:10: FutureWarning: The series.append method is deprecated and will be removed from pandas in a future version. Use pandas.concat instead.\n",
      "  players_series=players_series.append(x)\n",
      "C:\\Users\\HP\\AppData\\Local\\Temp\\ipykernel_14204\\1306702196.py:10: FutureWarning: The series.append method is deprecated and will be removed from pandas in a future version. Use pandas.concat instead.\n",
      "  players_series=players_series.append(x)\n"
     ]
    },
    {
     "data": {
      "text/plain": [
       "MS Dhoni     10\n",
       "SK Raina      8\n",
       "AT Rayudu     7\n",
       "DJ Bravo      7\n",
       "R Ashwin      7\n",
       "dtype: int64"
      ]
     },
     "execution_count": 40,
     "metadata": {},
     "output_type": "execute_result"
    }
   ],
   "source": [
    "def getplayers(l):\n",
    "    return pd.Series(list(map(lambda x:x.strip(\"'\"),l.lstrip(\"'[\").rstrip(\"]'\").split(\", \"))))\n",
    "df_final=ipl_m[ipl_m['MatchNumber']=='Final'].sort_values('Season')\n",
    "players_series=pd.Series()\n",
    "for player_list in df_final.Team1Players:\n",
    "    x=getplayers(player_list)\n",
    "    players_series=players_series.append(x)\n",
    "for player_list in df_final.Team2Players:\n",
    "    x=getplayers(player_list)\n",
    "    players_series=players_series.append(x)\n",
    "players_series.value_counts().head()"
   ]
  },
  {
   "cell_type": "markdown",
   "id": "ed253dc0",
   "metadata": {},
   "source": [
    "# Highest wicket taker of IPL"
   ]
  },
  {
   "cell_type": "code",
   "execution_count": 76,
   "id": "970a6490",
   "metadata": {},
   "outputs": [
    {
     "data": {
      "text/plain": [
       "bowler\n",
       "DJ Bravo           207\n",
       "SL Malinga         188\n",
       "A Mishra           175\n",
       "R Ashwin           174\n",
       "YS Chahal          172\n",
       "SP Narine          171\n",
       "PP Chawla          165\n",
       "B Kumar            165\n",
       "JJ Bumrah          161\n",
       "Harbhajan Singh    161\n",
       "Name: bowler, dtype: int64"
      ]
     },
     "execution_count": 76,
     "metadata": {},
     "output_type": "execute_result"
    }
   ],
   "source": [
    "ipl_wicket_balls=ipl_d[ipl_d['isWicketDelivery']==1]\n",
    "ipl_wicket_balls.groupby('bowler')['bowler'].count().sort_values(ascending=False).head(10)\n",
    "\n"
   ]
  },
  {
   "cell_type": "code",
   "execution_count": 78,
   "id": "dbe8d2ac",
   "metadata": {},
   "outputs": [
    {
     "data": {
      "image/png": "[encoded data removed]",
      "text/plain": [
       "<Figure size 864x432 with 1 Axes>"
      ]
     },
     "metadata": {},
     "output_type": "display_data"
    }
   ],
   "source": [
    "plt.figure(figsize=(12,6))\n",
    "ipl_wicket_balls.groupby('bowler')['bowler'].count().sort_values(ascending=False).head(10).plot(kind='bar',color='blue')\n",
    "plt.xlabel(\"Top Wicket takers\")\n",
    "plt.ylabel(\" Wicket's taken\")\n",
    "plt.show()\n"
   ]
  },
  {
   "cell_type": "markdown",
   "id": "1e80dfca",
   "metadata": {},
   "source": [
    "# Most Expensive bowler of IPL"
   ]
  },
  {
   "cell_type": "code",
   "execution_count": 82,
   "id": "1edc2b91",
   "metadata": {
    "scrolled": true
   },
   "outputs": [
    {
     "name": "stdout",
     "output_type": "stream",
     "text": [
      "bowler\n",
      "R Ashwin           4596\n",
      "DJ Bravo           4436\n",
      "PP Chawla          4368\n",
      "RA Jadeja          4114\n",
      "Harbhajan Singh    4101\n",
      "B Kumar            4064\n",
      "UT Yadav           4041\n",
      "A Mishra           4022\n",
      "SP Narine          3907\n",
      "YS Chahal          3699\n",
      "Name: total_run, dtype: int64\n"
     ]
    },
    {
     "data": {
      "text/plain": [
       "<AxesSubplot:xlabel='bowler', ylabel='total_run'>"
      ]
     },
     "execution_count": 82,
     "metadata": {},
     "output_type": "execute_result"
    },
    {
     "data": {
      "image/png": "[encoded data removed]",
      "text/plain": [
       "<Figure size 1080x720 with 1 Axes>"
      ]
     },
     "metadata": {},
     "output_type": "display_data"
    }
   ],
   "source": [
    "b=ipl_d.groupby('bowler')['total_run'].sum().sort_values(ascending=False).head(10)\n",
    "print(b)\n",
    "plt.figure(figsize=(15,10))\n",
    "sns.barplot(data=ipl_d,x=b.index,y=b)\n",
    "\n"
   ]
  },
  {
   "cell_type": "code",
   "execution_count": null,
   "id": "e177b09b",
   "metadata": {},
   "outputs": [],
   "source": []
  },
  {
   "cell_type": "code",
   "execution_count": null,
   "id": "f6776a94",
   "metadata": {},
   "outputs": [],
   "source": []
  },
  {
   "cell_type": "code",
   "execution_count": null,
   "id": "83c401a9",
   "metadata": {},
   "outputs": [],
   "source": []
  },
  {
   "cell_type": "code",
   "execution_count": null,
   "id": "a5da2154",
   "metadata": {},
   "outputs": [],
   "source": []
  },
  {
   "cell_type": "markdown",
   "id": "723998b2",
   "metadata": {},
   "source": []
  },
  {
   "cell_type": "code",
   "execution_count": null,
   "id": "1ad0d86b",
   "metadata": {},
   "outputs": [],
   "source": []
  },
  {
   "cell_type": "code",
   "execution_count": null,
   "id": "2355d484",
   "metadata": {},
   "outputs": [],
   "source": []
  },
  {
   "cell_type": "code",
   "execution_count": null,
   "id": "37018fab",
   "metadata": {
    "scrolled": true
   },
   "outputs": [],
   "source": [
    "\n"
   ]
  },
  {
   "cell_type": "code",
   "execution_count": 5,
   "id": "ca7b77f5",
   "metadata": {},
   "outputs": [],
   "source": []
  },
  {
   "cell_type": "code",
   "execution_count": 6,
   "id": "7b9e5079",
   "metadata": {},
   "outputs": [],
   "source": []
  },
  {
   "cell_type": "code",
   "execution_count": 7,
   "id": "fc62cdfe",
   "metadata": {},
   "outputs": [],
   "source": []
  },
  {
   "cell_type": "code",
   "execution_count": 8,
   "id": "f55cebaf",
   "metadata": {},
   "outputs": [],
   "source": []
  },
  {
   "cell_type": "code",
   "execution_count": null,
   "id": "603af371",
   "metadata": {},
   "outputs": [],
   "source": []
  },
  {
   "cell_type": "code",
   "execution_count": null,
   "id": "a291db65",
   "metadata": {},
   "outputs": [],
   "source": []
  },
  {
   "cell_type": "code",
   "execution_count": null,
   "id": "d5a7d305",
   "metadata": {},
   "outputs": [],
   "source": [
    "WinningTeam"
   ]
  },
  {
   "cell_type": "code",
   "execution_count": 10,
   "id": "33849236",
   "metadata": {},
   "outputs": [
    {
     "data": {
      "text/plain": [
       "26"
      ]
     },
     "execution_count": 10,
     "metadata": {},
     "output_type": "execute_result"
    }
   ],
   "source": [
    "team1='Chennai Super Kings'\n",
    "team2='Kolkata Knight Riders'\n",
    "temp_df=ipl_matches[(ipl_matches['Team1']==team1) & (ipl_matches['Team2']==team2)|(ipl_matches['Team1']==team2) & (ipl_matches['Team2']==team1)]\n",
    "total_matches=temp_df.shape[0]\n",
    "total_matches"
   ]
  },
  {
   "cell_type": "markdown",
   "id": "416b00e8",
   "metadata": {},
   "source": [
    "# ONE on ONE record of each team vs each other\n"
   ]
  },
  {
   "cell_type": "code",
   "execution_count": 85,
   "id": "140a9be9",
   "metadata": {},
   "outputs": [],
   "source": [
    "def team_vs_team(team1,team2):\n",
    "    temp_df=ipl_m[(ipl_m['Team1']==team1) & (ipl_m['Team2']==team2)|(ipl_m['Team1']==team2) & (ipl_m['Team2']==team1)]\n",
    "    total_matches=temp_df.shape[0]\n",
    "    matches_won_team1=temp_df['WinningTeam'].value_counts()[team1]\n",
    "    matches_won_team2=temp_df['WinningTeam'].value_counts()[team2]\n",
    "    draws=total_matches-(matches_won_team1+matches_won_team2)\n",
    "    response={'total_matches':total_matches,\n",
    "             team1: matches_won_team1,\n",
    "             team2: matches_won_team2,\n",
    "             'draws': draws\n",
    "             }\n",
    "    return response\n",
    "    "
   ]
  },
  {
   "cell_type": "code",
   "execution_count": 86,
   "id": "c0acc3e6",
   "metadata": {},
   "outputs": [
    {
     "data": {
      "text/plain": [
       "{'total_matches': 30,\n",
       " 'Punjab Kings': 17,\n",
       " 'Royal Challengers Bangalore': 13,\n",
       " 'draws': 0}"
      ]
     },
     "execution_count": 86,
     "metadata": {},
     "output_type": "execute_result"
    }
   ],
   "source": [
    "team_vs_team('Punjab Kings','Royal Challengers Bangalore')"
   ]
  },
  {
   "cell_type": "markdown",
   "id": "f8b942fc",
   "metadata": {},
   "source": [
    "# Select a team and you will get the overall analysis of that team;"
   ]
  },
  {
   "cell_type": "code",
   "execution_count": 87,
   "id": "74c2b950",
   "metadata": {},
   "outputs": [],
   "source": [
    "def allRecord(team):\n",
    "    records=ipl_m[(ipl_m['Team1']==team)| (ipl_m['Team2']==team)]\n",
    "    records\n",
    "    matches_played=records.shape[0]\n",
    "    matches_won=records[records['WinningTeam']==team].shape[0]\n",
    "    nr=records[records.WinningTeam.isnull()].shape[0]\n",
    "    loss=matches_played-(matches_won+nr)\n",
    "    return {'Matches_played': matches_played,\n",
    "            'Won':matches_won,\n",
    "            'Lost':loss,\n",
    "            'No_Result':nr}\n",
    "\n"
   ]
  },
  {
   "cell_type": "code",
   "execution_count": 88,
   "id": "1f992409",
   "metadata": {},
   "outputs": [
    {
     "data": {
      "text/plain": [
       "{'Matches_played': 208, 'Won': 121, 'Lost': 87, 'No_Result': 0}"
      ]
     },
     "execution_count": 88,
     "metadata": {},
     "output_type": "execute_result"
    }
   ],
   "source": [
    "allRecord('Chennai Super Kings')"
   ]
  },
  {
   "cell_type": "code",
   "execution_count": null,
   "id": "b98a5335",
   "metadata": {},
   "outputs": [],
   "source": []
  },
  {
   "cell_type": "code",
   "execution_count": 38,
   "id": "fc2dba72",
   "metadata": {},
   "outputs": [
    {
     "data": {
      "text/plain": [
       "509"
      ]
     },
     "execution_count": 38,
     "metadata": {},
     "output_type": "execute_result"
    }
   ],
   "source": []
  },
  {
   "cell_type": "code",
   "execution_count": null,
   "id": "6d8a0e27",
   "metadata": {},
   "outputs": [],
   "source": []
  },
  {
   "cell_type": "code",
   "execution_count": null,
   "id": "c00d7298",
   "metadata": {},
   "outputs": [],
   "source": []
  },
  {
   "cell_type": "markdown",
   "id": "1d004545",
   "metadata": {},
   "source": [
    "# Lets compare batting first and batting second win % before and after 2015"
   ]
  },
  {
   "cell_type": "code",
   "execution_count": 94,
   "id": "ab6fb591",
   "metadata": {},
   "outputs": [
    {
     "name": "stdout",
     "output_type": "stream",
     "text": [
      "total_macthes before 2015: 517\n",
      "second bat won : 268\n",
      "first_batting_won: 249\n",
      "second_battingWinpercen: 51.83752417794971\n",
      "total_macthes after 2015: 492\n",
      "second bat won : 265\n",
      "first_batting_won: 227\n",
      "second_battingWinpercen1: 53.86178861788618\n"
     ]
    }
   ],
   "source": [
    "mat_till_2015=ipl_m[ipl_m['Season']<='2015']\n",
    "mat_till_2015[mat_till_2015['WonBy']=='Wickets'].shape[0]\n",
    "total_matches=mat_till_2015.shape[0]\n",
    "print('total_macthes before 2015:',total_matches)\n",
    "print('second bat won :',mat_till_2015[mat_till_2015['WonBy']=='Wickets'].shape[0])\n",
    "print('first_batting_won:',517-268)\n",
    "mat_after_2015=ipl_m[ipl_m['Season']>='2015']\n",
    "second_battingWinpercent=(268/517)*100\n",
    "print('second_battingWinpercen:',second_battingWinpercent)\n",
    "\n",
    "\n",
    "print('total_macthes after 2015:',mat_after_2015.shape[0])\n",
    "print('second bat won :',mat_after_2015[mat_after_2015['WonBy']=='Wickets'].shape[0])\n",
    "print('first_batting_won:',492-265)\n",
    "second_battingWinpercent1=(265/492)*100\n",
    "print('second_battingWinpercen1:',second_battingWinpercent1)\n"
   ]
  },
  {
   "cell_type": "markdown",
   "id": "02449e2f",
   "metadata": {},
   "source": [
    "# Conclusions"
   ]
  },
  {
   "cell_type": "markdown",
   "id": "b4be5c24",
   "metadata": {},
   "source": [
    "# 1.After 2015 batting 2nd percentage has increased by 2% which will result in teams going for batting second after winning Toss"
   ]
  },
  {
   "cell_type": "code",
   "execution_count": null,
   "id": "6c1a7da7",
   "metadata": {},
   "outputs": [],
   "source": []
  },
  {
   "cell_type": "code",
   "execution_count": null,
   "id": "197f385a",
   "metadata": {},
   "outputs": [],
   "source": []
  },
  {
   "cell_type": "code",
   "execution_count": null,
   "id": "8fcdd458",
   "metadata": {},
   "outputs": [],
   "source": []
  },
  {
   "cell_type": "code",
   "execution_count": null,
   "id": "2e75690d",
   "metadata": {},
   "outputs": [],
   "source": []
  },
  {
   "cell_type": "code",
   "execution_count": 42,
   "id": "cc3aa7f4",
   "metadata": {},
   "outputs": [
    {
     "data": {
      "text/plain": [
       "[11, 2, 3, 4, 5]"
      ]
     },
     "execution_count": 42,
     "metadata": {},
     "output_type": "execute_result"
    }
   ],
   "source": []
  },
  {
   "cell_type": "markdown",
   "id": "1beec801",
   "metadata": {},
   "source": [
    "# Dataframe of all the final winners from 2008-2020"
   ]
  },
  {
   "cell_type": "code",
   "execution_count": 10,
   "id": "fb70bda6",
   "metadata": {},
   "outputs": [
    {
     "data": {
      "text/html": [
       "<div>\n",
       "<style scoped>\n",
       "    .dataframe tbody tr th:only-of-type {\n",
       "        vertical-align: middle;\n",
       "    }\n",
       "\n",
       "    .dataframe tbody tr th {\n",
       "        vertical-align: top;\n",
       "    }\n",
       "\n",
       "    .dataframe thead th {\n",
       "        text-align: right;\n",
       "    }\n",
       "</style>\n",
       "<table border=\"1\" class=\"dataframe\">\n",
       "  <thead>\n",
       "    <tr style=\"text-align: right;\">\n",
       "      <th></th>\n",
       "      <th>Season</th>\n",
       "      <th>WinningTeam</th>\n",
       "    </tr>\n",
       "  </thead>\n",
       "  <tbody>\n",
       "    <tr>\n",
       "      <th>0</th>\n",
       "      <td>2022</td>\n",
       "      <td>Gujarat Titans</td>\n",
       "    </tr>\n",
       "    <tr>\n",
       "      <th>74</th>\n",
       "      <td>2021</td>\n",
       "      <td>Chennai Super Kings</td>\n",
       "    </tr>\n",
       "    <tr>\n",
       "      <th>134</th>\n",
       "      <td>2020/21</td>\n",
       "      <td>Mumbai Indians</td>\n",
       "    </tr>\n",
       "    <tr>\n",
       "      <th>194</th>\n",
       "      <td>2019</td>\n",
       "      <td>Mumbai Indians</td>\n",
       "    </tr>\n",
       "    <tr>\n",
       "      <th>254</th>\n",
       "      <td>2018</td>\n",
       "      <td>Chennai Super Kings</td>\n",
       "    </tr>\n",
       "    <tr>\n",
       "      <th>314</th>\n",
       "      <td>2017</td>\n",
       "      <td>Mumbai Indians</td>\n",
       "    </tr>\n",
       "    <tr>\n",
       "      <th>373</th>\n",
       "      <td>2016</td>\n",
       "      <td>Sunrisers Hyderabad</td>\n",
       "    </tr>\n",
       "    <tr>\n",
       "      <th>433</th>\n",
       "      <td>2015</td>\n",
       "      <td>Mumbai Indians</td>\n",
       "    </tr>\n",
       "    <tr>\n",
       "      <th>492</th>\n",
       "      <td>2014</td>\n",
       "      <td>Kolkata Knight Riders</td>\n",
       "    </tr>\n",
       "    <tr>\n",
       "      <th>552</th>\n",
       "      <td>2013</td>\n",
       "      <td>Mumbai Indians</td>\n",
       "    </tr>\n",
       "    <tr>\n",
       "      <th>628</th>\n",
       "      <td>2012</td>\n",
       "      <td>Kolkata Knight Riders</td>\n",
       "    </tr>\n",
       "    <tr>\n",
       "      <th>702</th>\n",
       "      <td>2011</td>\n",
       "      <td>Chennai Super Kings</td>\n",
       "    </tr>\n",
       "    <tr>\n",
       "      <th>775</th>\n",
       "      <td>2009/10</td>\n",
       "      <td>Chennai Super Kings</td>\n",
       "    </tr>\n",
       "    <tr>\n",
       "      <th>835</th>\n",
       "      <td>2009</td>\n",
       "      <td>Sunrisers Hyderabad</td>\n",
       "    </tr>\n",
       "    <tr>\n",
       "      <th>892</th>\n",
       "      <td>2007/08</td>\n",
       "      <td>Rajasthan Royals</td>\n",
       "    </tr>\n",
       "  </tbody>\n",
       "</table>\n",
       "</div>"
      ],
      "text/plain": [
       "      Season            WinningTeam\n",
       "0       2022         Gujarat Titans\n",
       "74      2021    Chennai Super Kings\n",
       "134  2020/21         Mumbai Indians\n",
       "194     2019         Mumbai Indians\n",
       "254     2018    Chennai Super Kings\n",
       "314     2017         Mumbai Indians\n",
       "373     2016    Sunrisers Hyderabad\n",
       "433     2015         Mumbai Indians\n",
       "492     2014  Kolkata Knight Riders\n",
       "552     2013         Mumbai Indians\n",
       "628     2012  Kolkata Knight Riders\n",
       "702     2011    Chennai Super Kings\n",
       "775  2009/10    Chennai Super Kings\n",
       "835     2009    Sunrisers Hyderabad\n",
       "892  2007/08       Rajasthan Royals"
      ]
     },
     "execution_count": 10,
     "metadata": {},
     "output_type": "execute_result"
    }
   ],
   "source": [
    "mask=ipl_m['MatchNumber']=='Final'#fetching only final rows from the dataset\n",
    "new_df=ipl_m[mask]\n",
    "new_df[['Season','WinningTeam']]\n",
    "\n"
   ]
  },
  {
   "cell_type": "markdown",
   "id": "95f04b79",
   "metadata": {},
   "source": [
    "# Each team wins in differnt venues"
   ]
  },
  {
   "cell_type": "code",
   "execution_count": null,
   "id": "bb669e12",
   "metadata": {},
   "outputs": [],
   "source": [
    "#Please enter the team name and city t check the records."
   ]
  },
  {
   "cell_type": "code",
   "execution_count": 36,
   "id": "3f427d35",
   "metadata": {},
   "outputs": [
    {
     "data": {
      "text/plain": [
       "4"
      ]
     },
     "execution_count": 36,
     "metadata": {},
     "output_type": "execute_result"
    }
   ],
   "source": [
    "def win_each_venue(team,city):\n",
    "    return ipl_m[(ipl_m['City']==city) & (ipl_m['WinningTeam']==team)].shape[0]\n",
    "win_each_venue('Punjab Kings',\"Punjab Cricket Association IS Bindra Stadium, Mohali\")"
   ]
  },
  {
   "cell_type": "markdown",
   "id": "2dd8ab85",
   "metadata": {},
   "source": [
    "# How many superovers have occured so far"
   ]
  },
  {
   "cell_type": "code",
   "execution_count": 37,
   "id": "70ee80d0",
   "metadata": {},
   "outputs": [
    {
     "data": {
      "text/plain": [
       "14"
      ]
     },
     "execution_count": 37,
     "metadata": {},
     "output_type": "execute_result"
    }
   ],
   "source": [
    "ipl_m[ipl_m['SuperOver']=='Y'].shape[0]"
   ]
  },
  {
   "cell_type": "markdown",
   "id": "2383716b",
   "metadata": {},
   "source": [
    "# Is winning a toss a winning factor.Lets see?"
   ]
  },
  {
   "cell_type": "code",
   "execution_count": 43,
   "id": "f9bb1819",
   "metadata": {},
   "outputs": [
    {
     "data": {
      "text/plain": [
       "0.5147368421052632"
      ]
     },
     "execution_count": 43,
     "metadata": {},
     "output_type": "execute_result"
    }
   ],
   "source": [
    "ipl_m[ipl_m['TossWinner']==ipl_m['WinningTeam']].shape[0]/ipl_m.shape[0]"
   ]
  },
  {
   "cell_type": "code",
   "execution_count": null,
   "id": "538f5754",
   "metadata": {},
   "outputs": [],
   "source": [
    "#As we can see above winning toss acounts 51% win so winning a toss we can consider is not a factor that a team will win"
   ]
  },
  {
   "cell_type": "markdown",
   "id": "a5dcf6f4",
   "metadata": {},
   "source": [
    "# Lets find the big match players i.e the players who has won Man of the match\n",
    "# in qualifiers and finals"
   ]
  },
  {
   "cell_type": "code",
   "execution_count": 49,
   "id": "50b48d3b",
   "metadata": {},
   "outputs": [
    {
     "data": {
      "text/plain": [
       "KA Pollard        3\n",
       "F du Plessis      3\n",
       "SK Raina          3\n",
       "A Kumble          2\n",
       "MK Pandey         2\n",
       "YK Pathan         2\n",
       "M Vijay           2\n",
       "JJ Bumrah         2\n",
       "AB de Villiers    2\n",
       "SR Watson         2\n",
       "Name: Player_of_Match, dtype: int64"
      ]
     },
     "execution_count": 49,
     "metadata": {},
     "output_type": "execute_result"
    }
   ],
   "source": [
    "finals_data=ipl_m[~ipl_m['MatchNumber'].str.isdigit()]#this gives rows of qualifiers and finals only\n",
    "finals_data['Player_of_Match'].value_counts().head(10)"
   ]
  },
  {
   "cell_type": "markdown",
   "id": "68c6900a",
   "metadata": {},
   "source": [
    "# Lets see after winning the toss what does teams prefers to do bat or bowl"
   ]
  },
  {
   "cell_type": "code",
   "execution_count": 53,
   "id": "7a85f79f",
   "metadata": {},
   "outputs": [
    {
     "data": {
      "text/plain": [
       "<AxesSubplot:ylabel='TossDecision'>"
      ]
     },
     "execution_count": 53,
     "metadata": {},
     "output_type": "execute_result"
    },
    {
     "data": {
      "image/png": "[encoded data removed]",
      "text/plain": [
       "<Figure size 432x288 with 1 Axes>"
      ]
     },
     "metadata": {},
     "output_type": "display_data"
    }
   ],
   "source": [
    "ipl_m['TossDecision'].value_counts().plot(kind='pie')"
   ]
  },
  {
   "cell_type": "code",
   "execution_count": 10,
   "id": "75ccf63e",
   "metadata": {},
   "outputs": [
    {
     "data": {
      "text/plain": [
       "Index(['ID', 'innings', 'overs', 'ballnumber', 'batter', 'bowler',\n",
       "       'non-striker', 'extra_type', 'batsman_run', 'extras_run', 'total_run',\n",
       "       'non_boundary', 'isWicketDelivery', 'player_out', 'kind',\n",
       "       'fielders_involved', 'BattingTeam'],\n",
       "      dtype='object')"
      ]
     },
     "execution_count": 10,
     "metadata": {},
     "output_type": "execute_result"
    }
   ],
   "source": [
    "ipl_d.columns"
   ]
  },
  {
   "cell_type": "markdown",
   "id": "b9f47f4e",
   "metadata": {},
   "source": [
    "# Top 10 run getters of IPL\n"
   ]
  },
  {
   "cell_type": "code",
   "execution_count": 15,
   "id": "b41681f8",
   "metadata": {},
   "outputs": [
    {
     "data": {
      "text/plain": [
       "batter\n",
       "V Kohli           6634\n",
       "S Dhawan          6244\n",
       "DA Warner         5883\n",
       "RG Sharma         5881\n",
       "SK Raina          5536\n",
       "AB de Villiers    5181\n",
       "CH Gayle          4997\n",
       "MS Dhoni          4978\n",
       "RV Uthappa        4954\n",
       "KD Karthik        4377\n",
       "Name: batsman_run, dtype: int64"
      ]
     },
     "execution_count": 15,
     "metadata": {},
     "output_type": "execute_result"
    }
   ],
   "source": [
    "ipl_d.groupby('batter')['batsman_run'].sum().sort_values(ascending=False).head(10)"
   ]
  },
  {
   "cell_type": "markdown",
   "id": "6da7a091",
   "metadata": {},
   "source": [
    "# Top 5 six hitters  of IPL"
   ]
  },
  {
   "cell_type": "code",
   "execution_count": 23,
   "id": "e8913b1d",
   "metadata": {},
   "outputs": [
    {
     "data": {
      "text/plain": [
       "batter\n",
       "CH Gayle          359\n",
       "AB de Villiers    253\n",
       "RG Sharma         241\n",
       "MS Dhoni          229\n",
       "KA Pollard        224\n",
       "Name: batter, dtype: int64"
      ]
     },
     "execution_count": 23,
     "metadata": {},
     "output_type": "execute_result"
    }
   ],
   "source": [
    "six_data=ipl_d[ipl_d['batsman_run']==6] #filtering out those balls that has been hit for a six\n",
    "six_data.groupby('batter')['batter'].count().sort_values(ascending=False).head(5)"
   ]
  },
  {
   "cell_type": "markdown",
   "id": "1277a1de",
   "metadata": {},
   "source": [
    "# The king of death overs(batsman who have hit maximum boundaries in 16 to 20 over)"
   ]
  },
  {
   "cell_type": "code",
   "execution_count": 27,
   "id": "88c0d251",
   "metadata": {},
   "outputs": [
    {
     "data": {
      "text/plain": [
       "batter\n",
       "MS Dhoni          347\n",
       "KA Pollard        237\n",
       "AB de Villiers    218\n",
       "KD Karthik        190\n",
       "RG Sharma         168\n",
       "Name: batter, dtype: int64"
      ]
     },
     "execution_count": 27,
     "metadata": {},
     "output_type": "execute_result"
    }
   ],
   "source": [
    "temp_df=ipl_d[ipl_d['overs']>15]\n",
    "temp_df2=temp_df[(temp_df['batsman_run']==4)|(temp_df['batsman_run']==6)]\n",
    "temp_df2.groupby('batter')['batter'].count().sort_values(ascending=False).head(5)"
   ]
  },
  {
   "cell_type": "markdown",
   "id": "15bc64d7",
   "metadata": {},
   "source": [
    "# Enter a batsman name and his highest run  will be displayed\n"
   ]
  },
  {
   "cell_type": "code",
   "execution_count": 34,
   "id": "eb2466e4",
   "metadata": {},
   "outputs": [],
   "source": [
    "def highest(batsman):\n",
    "    team_df=ipl_d[ipl_d['batter']==batsman]\n",
    "    return team_df.groupby('ID')['batsman_run'].sum().sort_values(ascending=False).head(1).values[0]\n"
   ]
  },
  {
   "cell_type": "code",
   "execution_count": 35,
   "id": "9fc5d4ee",
   "metadata": {},
   "outputs": [
    {
     "data": {
      "text/plain": [
       "113"
      ]
     },
     "execution_count": 35,
     "metadata": {},
     "output_type": "execute_result"
    }
   ],
   "source": [
    "highest('V Kohli')"
   ]
  },
  {
   "cell_type": "markdown",
   "id": "067ace40",
   "metadata": {},
   "source": [
    "# Orange Cap Holder for each season"
   ]
  },
  {
   "cell_type": "code",
   "execution_count": 57,
   "id": "6e266741",
   "metadata": {},
   "outputs": [
    {
     "data": {
      "text/html": [
       "<div>\n",
       "<style scoped>\n",
       "    .dataframe tbody tr th:only-of-type {\n",
       "        vertical-align: middle;\n",
       "    }\n",
       "\n",
       "    .dataframe tbody tr th {\n",
       "        vertical-align: top;\n",
       "    }\n",
       "\n",
       "    .dataframe thead th {\n",
       "        text-align: right;\n",
       "    }\n",
       "</style>\n",
       "<table border=\"1\" class=\"dataframe\">\n",
       "  <thead>\n",
       "    <tr style=\"text-align: right;\">\n",
       "      <th></th>\n",
       "      <th>Season</th>\n",
       "      <th>batter</th>\n",
       "      <th>batsman_run</th>\n",
       "    </tr>\n",
       "  </thead>\n",
       "  <tbody>\n",
       "    <tr>\n",
       "      <th>115</th>\n",
       "      <td>2007/08</td>\n",
       "      <td>SE Marsh</td>\n",
       "      <td>616</td>\n",
       "    </tr>\n",
       "    <tr>\n",
       "      <th>229</th>\n",
       "      <td>2009</td>\n",
       "      <td>ML Hayden</td>\n",
       "      <td>572</td>\n",
       "    </tr>\n",
       "    <tr>\n",
       "      <th>446</th>\n",
       "      <td>2009/10</td>\n",
       "      <td>SR Tendulkar</td>\n",
       "      <td>618</td>\n",
       "    </tr>\n",
       "    <tr>\n",
       "      <th>502</th>\n",
       "      <td>2011</td>\n",
       "      <td>CH Gayle</td>\n",
       "      <td>608</td>\n",
       "    </tr>\n",
       "    <tr>\n",
       "      <th>684</th>\n",
       "      <td>2012</td>\n",
       "      <td>CH Gayle</td>\n",
       "      <td>733</td>\n",
       "    </tr>\n",
       "    <tr>\n",
       "      <th>910</th>\n",
       "      <td>2013</td>\n",
       "      <td>MEK Hussey</td>\n",
       "      <td>733</td>\n",
       "    </tr>\n",
       "    <tr>\n",
       "      <th>1088</th>\n",
       "      <td>2014</td>\n",
       "      <td>RV Uthappa</td>\n",
       "      <td>660</td>\n",
       "    </tr>\n",
       "    <tr>\n",
       "      <th>1148</th>\n",
       "      <td>2015</td>\n",
       "      <td>DA Warner</td>\n",
       "      <td>562</td>\n",
       "    </tr>\n",
       "    <tr>\n",
       "      <th>1383</th>\n",
       "      <td>2016</td>\n",
       "      <td>V Kohli</td>\n",
       "      <td>973</td>\n",
       "    </tr>\n",
       "    <tr>\n",
       "      <th>1422</th>\n",
       "      <td>2017</td>\n",
       "      <td>DA Warner</td>\n",
       "      <td>641</td>\n",
       "    </tr>\n",
       "    <tr>\n",
       "      <th>1594</th>\n",
       "      <td>2018</td>\n",
       "      <td>KS Williamson</td>\n",
       "      <td>735</td>\n",
       "    </tr>\n",
       "    <tr>\n",
       "      <th>1694</th>\n",
       "      <td>2019</td>\n",
       "      <td>DA Warner</td>\n",
       "      <td>692</td>\n",
       "    </tr>\n",
       "    <tr>\n",
       "      <th>1866</th>\n",
       "      <td>2020/21</td>\n",
       "      <td>KL Rahul</td>\n",
       "      <td>676</td>\n",
       "    </tr>\n",
       "    <tr>\n",
       "      <th>2051</th>\n",
       "      <td>2021</td>\n",
       "      <td>RD Gaikwad</td>\n",
       "      <td>635</td>\n",
       "    </tr>\n",
       "    <tr>\n",
       "      <th>2144</th>\n",
       "      <td>2022</td>\n",
       "      <td>JC Buttler</td>\n",
       "      <td>863</td>\n",
       "    </tr>\n",
       "  </tbody>\n",
       "</table>\n",
       "</div>"
      ],
      "text/plain": [
       "       Season         batter  batsman_run\n",
       "115   2007/08       SE Marsh          616\n",
       "229      2009      ML Hayden          572\n",
       "446   2009/10   SR Tendulkar          618\n",
       "502      2011       CH Gayle          608\n",
       "684      2012       CH Gayle          733\n",
       "910      2013     MEK Hussey          733\n",
       "1088     2014     RV Uthappa          660\n",
       "1148     2015      DA Warner          562\n",
       "1383     2016        V Kohli          973\n",
       "1422     2017      DA Warner          641\n",
       "1594     2018  KS Williamson          735\n",
       "1694     2019      DA Warner          692\n",
       "1866  2020/21       KL Rahul          676\n",
       "2051     2021     RD Gaikwad          635\n",
       "2144     2022     JC Buttler          863"
      ]
     },
     "execution_count": 57,
     "metadata": {},
     "output_type": "execute_result"
    }
   ],
   "source": [
    "joined.groupby(['Season','batter'])['batsman_run'].sum().reset_index().sort_values('batsman_run',ascending=False).drop_duplicates(subset=['Season'],keep='first').sort_values('Season')\n",
    "#"
   ]
  },
  {
   "cell_type": "code",
   "execution_count": 50,
   "id": "adba716e",
   "metadata": {},
   "outputs": [
    {
     "data": {
      "text/plain": [
       "Index(['ID', 'innings', 'overs', 'ballnumber', 'batter', 'bowler',\n",
       "       'non-striker', 'batsman_run', 'extras_run', 'total_run', 'non_boundary',\n",
       "       'isWicketDelivery', 'BattingTeam', 'City', 'Date', 'Season',\n",
       "       'MatchNumber', 'Team1', 'Team2', 'Venue', 'TossWinner', 'TossDecision',\n",
       "       'SuperOver', 'WinningTeam', 'WonBy', 'Margin', 'method',\n",
       "       'Player_of_Match', 'Team1Players', 'Team2Players', 'Umpire1',\n",
       "       'Umpire2'],\n",
       "      dtype='object')"
      ]
     },
     "execution_count": 50,
     "metadata": {},
     "output_type": "execute_result"
    }
   ],
   "source": [
    "joined.columns"
   ]
  }
 ],
 "metadata": {
  "kernelspec": {
   "display_name": "Python 3 (ipykernel)",
   "language": "python",
   "name": "python3"
  },
  "language_info": {
   "codemirror_mode": {
    "name": "ipython",
    "version": 3
   },
   "file_extension": ".py",
   "mimetype": "text/x-python",
   "name": "python",
   "nbconvert_exporter": "python",
   "pygments_lexer": "ipython3",
   "version": "3.9.12"
  }
 },
 "nbformat": 4,
 "nbformat_minor": 5
}
